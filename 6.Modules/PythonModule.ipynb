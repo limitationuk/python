{
 "cells": [
  {
   "cell_type": "code",
   "execution_count": null,
   "id": "e66aa4f8",
   "metadata": {},
   "outputs": [],
   "source": [
    "\"\"\"\n",
    "Module\n",
    "\n",
    "연관성 있는 변수, 함수, 클래스 등을 하나로 묶어 놓은 것\n",
    ".py 확장자 파일 하나가 모듈\n",
    "모듈 내부에 정의된 요소는 다른 파일에서 import가능\n",
    ": 직접 실행될 때와 import될 때 __name__선언이 다름\n",
    "종류\n",
    ": 표준모듈: os, sys, math ...\n",
    ": 외부모듈: pip로 설치됨(pypi)\n",
    ": 사용자 정의 모듈: 사용자가 직접 생성한 .py 파일\n",
    "\"\"\""
   ]
  }
 ],
 "metadata": {
  "language_info": {
   "name": "python"
  }
 },
 "nbformat": 4,
 "nbformat_minor": 5
}
