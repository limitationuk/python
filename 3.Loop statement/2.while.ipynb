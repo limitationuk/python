{
 "cells": [
  {
   "cell_type": "code",
   "execution_count": null,
   "id": "768f3a15",
   "metadata": {},
   "outputs": [
    {
     "name": "stdout",
     "output_type": "stream",
     "text": [
      "True\n",
      "False\n"
     ]
    }
   ],
   "source": [
    "a ='1'\n",
    "b = ''\n",
    "print(bool(a)) # 값이 있으면 True, 없으면 False\n",
    "print(bool(b))"
   ]
  },
  {
   "cell_type": "code",
   "execution_count": 6,
   "id": "b387b8b0",
   "metadata": {},
   "outputs": [
    {
     "name": "stdout",
     "output_type": "stream",
     "text": [
      "False\n",
      "True\n",
      "True\n"
     ]
    }
   ],
   "source": [
    "int1 = 0\n",
    "int2 = 1\n",
    "int3 = 10\n",
    "\n",
    "print(bool(int1))\n",
    "print(bool(int2))\n",
    "print(bool(int3))"
   ]
  },
  {
   "cell_type": "code",
   "execution_count": null,
   "id": "f23481f0",
   "metadata": {},
   "outputs": [
    {
     "name": "stdout",
     "output_type": "stream",
     "text": [
      "1\n",
      "2\n",
      "3\n",
      "1\n",
      "2\n",
      "3\n",
      "1\n",
      "2\n",
      "3\n",
      "1\n",
      "2\n",
      "3\n"
     ]
    }
   ],
   "source": [
    "run = True\n",
    "\n",
    "while run:\n",
    "    print(\"1\")\n",
    "    print(\"2\")\n",
    "    print(\"3\")\n",
    "\n",
    "    run = bool(input(\"Rerun? True: press any key / False: type noting\"))\n",
    "\n",
    "print(\"Loop finished.\")\n",
    "\n"
   ]
  },
  {
   "cell_type": "code",
   "execution_count": null,
   "id": "18a5f728",
   "metadata": {},
   "outputs": [
    {
     "name": "stdout",
     "output_type": "stream",
     "text": [
      "0\n",
      "1\n",
      "2\n",
      "3\n",
      "4\n",
      "5\n"
     ]
    }
   ],
   "source": [
    "i = 0\n",
    "while i < 5:\n",
    "    print(i)\n",
    "\n",
    "    i += 1\n",
    "\n",
    "print(\"after while loop\")\n",
    "print(i) #출력되지 못한 5"
   ]
  },
  {
   "cell_type": "code",
   "execution_count": 18,
   "id": "312595bf",
   "metadata": {},
   "outputs": [
    {
     "name": "stdout",
     "output_type": "stream",
     "text": [
      "*\n",
      "**\n",
      "***\n",
      "****\n",
      "*****\n"
     ]
    }
   ],
   "source": [
    "line = int(input(\"Type line number \"))\n",
    "\n",
    "i = 1\n",
    "while i <= line:\n",
    "    print(\"*\"*i)\n",
    "    i += 1"
   ]
  },
  {
   "cell_type": "code",
   "execution_count": null,
   "id": "367fb909",
   "metadata": {},
   "outputs": [
    {
     "name": "stdout",
     "output_type": "stream",
     "text": [
      "*****\n",
      "****\n",
      "***\n",
      "**\n",
      "*\n"
     ]
    }
   ],
   "source": [
    "line = int(input(\"Type line number \")) #복습\n",
    "\n",
    "while line > 0:\n",
    "    print(\"*\"*line)\n",
    "    line-=1"
   ]
  },
  {
   "cell_type": "code",
   "execution_count": 26,
   "id": "64260b32",
   "metadata": {},
   "outputs": [
    {
     "name": "stdout",
     "output_type": "stream",
     "text": [
      "1\n",
      "3\n",
      "5\n",
      "7\n",
      "9\n"
     ]
    }
   ],
   "source": [
    "i = 1\n",
    "\n",
    "while i < 10:\n",
    "    if i % 2 == 1:\n",
    "        print(i)\n",
    "\n",
    "    i+=1\n",
    "\n",
    "        "
   ]
  },
  {
   "cell_type": "code",
   "execution_count": 24,
   "id": "f55401bd",
   "metadata": {},
   "outputs": [
    {
     "name": "stdout",
     "output_type": "stream",
     "text": [
      "Running..\n"
     ]
    }
   ],
   "source": [
    "run = True \n",
    "while run:\n",
    "    print(\"Running..\")\n",
    "\n",
    "    run = bool(input(\"Rerun? yes any key/ no nothing\"))\n"
   ]
  },
  {
   "cell_type": "code",
   "execution_count": null,
   "id": "07385a41",
   "metadata": {},
   "outputs": [],
   "source": [
    "while True:\n",
    "    print(\"Running..\")\n",
    "\n",
    "    command = input(\"q\")\n",
    "    #if command == "
   ]
  },
  {
   "cell_type": "code",
   "execution_count": 27,
   "id": "a88d86e3",
   "metadata": {},
   "outputs": [
    {
     "ename": "ValueError",
     "evalue": "invalid literal for int() with base 10: 'h'",
     "output_type": "error",
     "traceback": [
      "\u001b[31m---------------------------------------------------------------------------\u001b[39m",
      "\u001b[31mValueError\u001b[39m                                Traceback (most recent call last)",
      "\u001b[36mCell\u001b[39m\u001b[36m \u001b[39m\u001b[32mIn[27]\u001b[39m\u001b[32m, line 6\u001b[39m\n\u001b[32m      2\u001b[39m isValid = \u001b[38;5;28;01mTrue\u001b[39;00m\n\u001b[32m      4\u001b[39m days = [\u001b[32m31\u001b[39m, \u001b[32m28\u001b[39m, \u001b[32m31\u001b[39m, \u001b[32m30\u001b[39m, \u001b[32m31\u001b[39m, \u001b[32m30\u001b[39m, \u001b[32m31\u001b[39m, \u001b[32m31\u001b[39m, \u001b[32m30\u001b[39m, \u001b[32m31\u001b[39m, \u001b[32m30\u001b[39m, \u001b[32m31\u001b[39m] \u001b[38;5;66;03m# month: 1 -> index 0\u001b[39;00m\n\u001b[32m----> \u001b[39m\u001b[32m6\u001b[39m year = \u001b[38;5;28;43mint\u001b[39;49m\u001b[43m(\u001b[49m\u001b[38;5;28;43minput\u001b[39;49m\u001b[43m(\u001b[49m\u001b[33;43m\"\u001b[39;49m\u001b[33;43mType your birth year\u001b[39;49m\u001b[33;43m\"\u001b[39;49m\u001b[43m)\u001b[49m\u001b[43m)\u001b[49m\n\u001b[32m      7\u001b[39m \u001b[38;5;28;01mif\u001b[39;00m year % \u001b[32m4\u001b[39m == \u001b[32m0\u001b[39m:\n\u001b[32m      8\u001b[39m     days[\u001b[32m1\u001b[39m] = \u001b[32m29\u001b[39m\n",
      "\u001b[31mValueError\u001b[39m: invalid literal for int() with base 10: 'h'"
     ]
    }
   ],
   "source": [
    "#생년월일 확인 파일 위치 옮기기\n",
    "isValid = True\n",
    "\n",
    "days = [31, 28, 31, 30, 31, 30, 31, 31, 30, 31, 30, 31] # month: 1 -> index 0\n",
    "\n",
    "year = int(input(\"Type your birth year\"))\n",
    "if year % 4 == 0:\n",
    "    days[1] = 29\n",
    "    print(f\"days list updated: {days}\")\n",
    "\n",
    "month = int(input(\"Type your birth month\"))\n",
    "if not( 1 <= month <= 12):\n",
    "    isValid = False\n",
    "\n",
    "day = int(input(\"Type your birth day\"))\n",
    "if not( 1 <= day <= days[month-1]):\n",
    "    print(\"Invalid day\")\n",
    "    isValid = False\n",
    "\n",
    "\n",
    "print(isValid)"
   ]
  }
 ],
 "metadata": {
  "kernelspec": {
   "display_name": ".venv",
   "language": "python",
   "name": "python3"
  },
  "language_info": {
   "codemirror_mode": {
    "name": "ipython",
    "version": 3
   },
   "file_extension": ".py",
   "mimetype": "text/x-python",
   "name": "python",
   "nbconvert_exporter": "python",
   "pygments_lexer": "ipython3",
   "version": "3.12.3"
  }
 },
 "nbformat": 4,
 "nbformat_minor": 5
}
