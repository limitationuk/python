{
 "cells": [
  {
   "cell_type": "code",
   "execution_count": null,
   "id": "f5ef1f05",
   "metadata": {},
   "outputs": [],
   "source": [
    "\"\"\"\n",
    "-for 문은 일정한 횟수만큼 반복을 수행할 때 사용하는 반복 제어 구조.\n",
    "-리스트, 문자열, range와 같은 반복 가능한 객체(iterable)를 순서대로 탐색하며, 각 요소를\n",
    "변수에 하나씩 할당하여 블록 내부의 코드를 실행.\n",
    "-반복 대상이 숫자의 범위일 경우 range() 함수를 사용하여 반복 횟수를 제어할 수 있으며,\n",
    "문자열, 리스트, 딕셔너리 등 다양한 자료형과 함께 사용.\n",
    "-enumerate() 함수를 활용하면 인덱스와 값을 함께 다룰 수 있고, 이중 for문을 통해 중첩된\n",
    "구조(예: 2차원 리스트)도 반복 처리 가능.\n",
    "\"\"\" "
   ]
  },
  {
   "cell_type": "code",
   "execution_count": 1,
   "id": "e911b6d0",
   "metadata": {},
   "outputs": [
    {
     "name": "stdout",
     "output_type": "stream",
     "text": [
      "0\n",
      "1\n",
      "2\n",
      "3\n",
      "4\n",
      "5\n",
      "6\n",
      "7\n",
      "8\n",
      "9\n",
      "End of for statement\n"
     ]
    }
   ],
   "source": [
    "for i in range(0,10,1): # start(이상), end(미만), step(간격) / (10)으로 생략 가능 / 음수 사용가능\n",
    "    print(i)\n",
    "\n",
    "\n",
    "print(\"End of for statement\")"
   ]
  },
  {
   "cell_type": "code",
   "execution_count": 14,
   "id": "a45daf75",
   "metadata": {},
   "outputs": [
    {
     "name": "stdout",
     "output_type": "stream",
     "text": [
      "*\n",
      "**\n",
      "***\n",
      "****\n",
      "*****\n",
      "*\n",
      "**\n",
      "***\n",
      "****\n",
      "*****\n"
     ]
    }
   ],
   "source": [
    "print(\"*\"*1)\n",
    "print(\"*\"*2)\n",
    "print(\"*\"*3)\n",
    "print(\"*\"*4)\n",
    "print(\"*\"*5)\n",
    "\n",
    "for i in range(1,6,1):\n",
    "    print(\"*\"*i)"
   ]
  },
  {
   "cell_type": "code",
   "execution_count": 17,
   "id": "bbd7ce57",
   "metadata": {},
   "outputs": [
    {
     "name": "stdout",
     "output_type": "stream",
     "text": [
      "*\n",
      "**\n",
      "***\n"
     ]
    }
   ],
   "source": [
    "line = int(input(\"Type line number \"))\n",
    "\n",
    "for i in range(1,line+1, 1):\n",
    "    print(\"*\"*i)\n"
   ]
  },
  {
   "cell_type": "code",
   "execution_count": 18,
   "id": "a655ead0",
   "metadata": {},
   "outputs": [
    {
     "name": "stdout",
     "output_type": "stream",
     "text": [
      "***\n",
      "**\n",
      "*\n"
     ]
    }
   ],
   "source": [
    "for i in range(3,0,-1):\n",
    "    print(\"*\"*i)"
   ]
  },
  {
   "cell_type": "code",
   "execution_count": 19,
   "id": "dc91f8aa",
   "metadata": {},
   "outputs": [
    {
     "name": "stdout",
     "output_type": "stream",
     "text": [
      "****\n",
      "***\n",
      "**\n",
      "*\n"
     ]
    }
   ],
   "source": [
    "line = int(input(\"Type line number \"))\n",
    "\n",
    "for i in range(line, 0, -1):\n",
    "    print(\"*\"*i)"
   ]
  },
  {
   "cell_type": "code",
   "execution_count": null,
   "id": "ada61394",
   "metadata": {},
   "outputs": [],
   "source": [
    "numbers = [\"one\", \"two\", \"three\"]\n",
    "\n",
    "print(numbers[0])\n",
    "print(numbers[1])\n",
    "print(numbers[2])\n",
    "\n"
   ]
  },
  {
   "cell_type": "code",
   "execution_count": null,
   "id": "2bb9c8fb",
   "metadata": {},
   "outputs": [
    {
     "name": "stdout",
     "output_type": "stream",
     "text": [
      "i:0, numbers[i]: one\n",
      "i:1, numbers[i]: two\n",
      "i:2, numbers[i]: three\n"
     ]
    }
   ],
   "source": [
    "numbers = [\"one\", \"two\", \"three\"]\n",
    "print(len(numbers))\n",
    "\n",
    "for i in range(0,len(numbers),1):\n",
    "    print(f\"i:{i}, numbers[i]: {numbers[i]}\")"
   ]
  },
  {
   "cell_type": "code",
   "execution_count": null,
   "id": "cd3378bf",
   "metadata": {},
   "outputs": [
    {
     "name": "stdout",
     "output_type": "stream",
     "text": [
      "one\n",
      "[0, 'two', 'three']\n",
      "two\n",
      "[0, 1, 'three']\n",
      "three\n",
      "[0, 1, 2]\n",
      "0\n",
      "1\n",
      "2\n"
     ]
    }
   ],
   "source": [
    "numbers = [\"one\", \"two\", \"three\"]\n",
    "\n",
    "for i in range(0,len(numbers),1): #복습\n",
    "    print(numbers[i])\n",
    "    numbers[i] = i\n",
    "    print(numbers)\n",
    "\n",
    "for number in numbers:\n",
    "    print(number)"
   ]
  },
  {
   "cell_type": "code",
   "execution_count": null,
   "id": "f8dc64c6",
   "metadata": {},
   "outputs": [
    {
     "name": "stdout",
     "output_type": "stream",
     "text": [
      "0 red\n",
      "1 green\n",
      "2 blue\n"
     ]
    }
   ],
   "source": [
    "colors = [\"red\", \"green\", \"blue\"]\n",
    "\n",
    "for i, c in enumerate(colors): #enumerate 리스트의 인덱스와 값을 동시에 얻을 수 있게 해주는 함수\n",
    "    print(i,c)"
   ]
  },
  {
   "cell_type": "code",
   "execution_count": 38,
   "id": "3ff49769",
   "metadata": {},
   "outputs": [
    {
     "name": "stdout",
     "output_type": "stream",
     "text": [
      "max: 80, i: 0, score[i]: 80\n",
      "do nothing\n",
      "max: 80, i: 1, score[i]: 60\n",
      "do nothing\n",
      "max: 80, i: 2, score[i]: 75\n",
      "do nothing\n",
      "max: 80, i: 3, score[i]: 90\n",
      "max value updated.\n",
      "max: 90, i: 4, score[i]: 85\n",
      "do nothing\n",
      "90\n"
     ]
    }
   ],
   "source": [
    "score = [80, 60, 75, 90, 85]\n",
    "\n",
    "max = score[0] #80\n",
    "\n",
    "for i in range(0,len(score),1):\n",
    "    print(f\"max: {max}, i: {i}, score[i]: {score[i]}\")\n",
    "    if max < score[i]:\n",
    "        max = score[i]\n",
    "        print(\"max value updated.\")\n",
    "    else:\n",
    "        print(\"do nothing\")\n",
    "\n",
    "print(max)"
   ]
  },
  {
   "cell_type": "code",
   "execution_count": 40,
   "id": "7a13cb1a",
   "metadata": {},
   "outputs": [
    {
     "name": "stdout",
     "output_type": "stream",
     "text": [
      "max:80, s:80\n",
      "do nothing\n",
      "max:80, s:60\n",
      "do nothing\n",
      "max:80, s:75\n",
      "do nothing\n",
      "max:80, s:90\n",
      "max value updated\n",
      "max:90, s:85\n",
      "do nothing\n",
      "90\n"
     ]
    }
   ],
   "source": [
    "scores = [80, 60, 75, 90, 85]\n",
    "max = scores[0]\n",
    "\n",
    "for s in scores:\n",
    "    print(f\"max:{max}, s:{s}\")\n",
    "    if max < s:\n",
    "        max = s\n",
    "        print(\"max value updated\")\n",
    "\n",
    "    else:\n",
    "        print(\"do nothing\")\n",
    "\n",
    "print(max)"
   ]
  },
  {
   "cell_type": "code",
   "execution_count": null,
   "id": "c9d4ab66",
   "metadata": {},
   "outputs": [
    {
     "name": "stdout",
     "output_type": "stream",
     "text": [
      "80\n",
      "140\n",
      "215\n",
      "305\n",
      "390\n",
      "==========\n",
      "390\n",
      "==========\n",
      "78.0\n"
     ]
    }
   ],
   "source": [
    "scores = [80, 60, 75, 90, 85]\n",
    "total = 0\n",
    "\n",
    "for s in scores:\n",
    "    total += s      #total = total + s\n",
    "    print(total)\n",
    "    \n",
    "print(\"=\"*10)\n",
    "print(total)\n",
    "\n",
    "print(\"=\"*10)\n",
    "avg = total / len(scores)\n",
    "print(avg)"
   ]
  },
  {
   "cell_type": "code",
   "execution_count": null,
   "id": "e04eca66",
   "metadata": {},
   "outputs": [
    {
     "name": "stdout",
     "output_type": "stream",
     "text": [
      "b2\n",
      "['a1', 'a2', 'a3']\n",
      "a1\n",
      "a2\n",
      "a3\n",
      "['b1', 'b2', 'b3']\n",
      "b1\n",
      "b2\n",
      "b3\n",
      "['c1', 'c2', 'c3']\n",
      "c1\n",
      "c2\n",
      "c3\n"
     ]
    }
   ],
   "source": [
    "matrix = [\n",
    "    [\"a1\", \"a2\", \"a3\"],\n",
    "    [\"b1\", \"b2\", \"b3\"],\n",
    "    [\"c1\", \"c2\", \"c3\"]\n",
    "]\n",
    "\n",
    "#print(matrix[1][1])\n",
    "\n",
    "for sublist in matrix:\n",
    "    print(sublist)\n",
    "    for item in  sublist:\n",
    "        print(item)"
   ]
  },
  {
   "cell_type": "code",
   "execution_count": 55,
   "id": "772206d3",
   "metadata": {},
   "outputs": [
    {
     "name": "stdout",
     "output_type": "stream",
     "text": [
      "0\n",
      "['a1', 'a2', 'a3']\n",
      "a1\n",
      "a2\n",
      "a3\n",
      "1\n",
      "['b1', 'b2', 'b3']\n",
      "b1\n",
      "b2\n",
      "b3\n",
      "2\n",
      "['c1', 'c2', 'c3']\n",
      "c1\n",
      "c2\n",
      "c3\n"
     ]
    }
   ],
   "source": [
    "matrix = [\n",
    "    [\"a1\", \"a2\", \"a3\"],\n",
    "    [\"b1\", \"b2\", \"b3\"],\n",
    "    [\"c1\", \"c2\", \"c3\"]\n",
    "]\n",
    "\n",
    "for i in range(len(matrix)):\n",
    "    print(i)\n",
    "    print(matrix[i])\n",
    "    for j in range(len(matrix[i])):\n",
    "          print(matrix[i][j])\n",
    "      "
   ]
  },
  {
   "cell_type": "code",
   "execution_count": 57,
   "id": "d310b4ba",
   "metadata": {},
   "outputs": [
    {
     "name": "stdout",
     "output_type": "stream",
     "text": [
      "h\n",
      "e\n",
      "l\n",
      "l\n",
      "o\n"
     ]
    }
   ],
   "source": [
    "text = \"hello\"\n",
    "\n",
    "for t in text:\n",
    "    print(t)"
   ]
  },
  {
   "cell_type": "code",
   "execution_count": 58,
   "id": "e668af2b",
   "metadata": {},
   "outputs": [
    {
     "name": "stdout",
     "output_type": "stream",
     "text": [
      "e\n",
      "h\n",
      "e\n",
      "l\n",
      "l\n",
      "o\n"
     ]
    }
   ],
   "source": [
    "text = \"hello\"\n",
    "print(text[1])\n",
    "\n",
    "for i in range(len(text)):\n",
    "    print(text[i])\n"
   ]
  },
  {
   "cell_type": "code",
   "execution_count": 60,
   "id": "4f74af4a",
   "metadata": {},
   "outputs": [
    {
     "name": "stdout",
     "output_type": "stream",
     "text": [
      "Americano\n",
      "3000\n",
      "Latte\n",
      "3500\n",
      "Cappuccino\n",
      "4000\n",
      "Mocha\n",
      "4500\n"
     ]
    }
   ],
   "source": [
    "menus = {\n",
    "    \"Americano\": 3000,\n",
    "    \"Latte\": 3500,\n",
    "    \"Cappuccino\": 4000,\n",
    "    \"Mocha\": 4500\n",
    "}\n",
    "\n",
    "for m in menus:\n",
    "    print(m)\n",
    "    print(menus[m])"
   ]
  }
 ],
 "metadata": {
  "kernelspec": {
   "display_name": ".venv",
   "language": "python",
   "name": "python3"
  },
  "language_info": {
   "codemirror_mode": {
    "name": "ipython",
    "version": 3
   },
   "file_extension": ".py",
   "mimetype": "text/x-python",
   "name": "python",
   "nbconvert_exporter": "python",
   "pygments_lexer": "ipython3",
   "version": "3.12.3"
  }
 },
 "nbformat": 4,
 "nbformat_minor": 5
}
