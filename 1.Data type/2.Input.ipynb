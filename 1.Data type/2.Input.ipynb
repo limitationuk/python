{
 "cells": [
  {
   "cell_type": "code",
   "execution_count": null,
   "id": "ef297677",
   "metadata": {},
   "outputs": [],
   "source": [
    "\"\"\"\n",
    "사용자 입력은 프로그램 실행 중 사용자로부터 값을 입력받는 기능.\n",
    "파이썬에서 input() 함수를 사용하여 키보드 입력을 문자열로 받아들임.\n",
    "input() 함수의 괄호 안에는 입력을 유도하는 안내 문구를 작성.\n",
    "입력값은 기본적으로 항상 문자열(str) 형태로 저장.\n",
    "숫자나 기타 자료형으로 사용하려면 형 변환(casting)을 통해 자료형을 명시해야 함.\n",
    "\"\"\""
   ]
  },
  {
   "cell_type": "code",
   "execution_count": 2,
   "id": "a2b26aa5",
   "metadata": {},
   "outputs": [
    {
     "name": "stdout",
     "output_type": "stream",
     "text": [
      "Jeong\n",
      "s\n"
     ]
    }
   ],
   "source": [
    "#직접 지정 vs 사용자 입력\n",
    "fixed_name = \"Jeong\"\n",
    "print(fixed_name)\n",
    "\n",
    "user_input = input(\"name? \")\n",
    "print(user_input)"
   ]
  },
  {
   "cell_type": "code",
   "execution_count": 4,
   "id": "b31fef73",
   "metadata": {},
   "outputs": [
    {
     "name": "stdout",
     "output_type": "stream",
     "text": [
      "123\n",
      "23\n",
      "4\n"
     ]
    }
   ],
   "source": [
    "#여러 입력값을 활용한 사용자 정보 수집\n",
    "name = input(\"name: \")\n",
    "gender = input(\"gender: \")\n",
    "email = input(\"email: \")\n",
    "\n",
    "print(name)\n",
    "print(gender)\n",
    "print(email)"
   ]
  },
  {
   "cell_type": "code",
   "execution_count": 8,
   "id": "f9f2fc6c",
   "metadata": {},
   "outputs": [
    {
     "name": "stdout",
     "output_type": "stream",
     "text": [
      "<class 'int'>\n"
     ]
    }
   ],
   "source": [
    "#형변환\n",
    "age = int(input(\"How old are you\"))\n",
    "print(type(age))"
   ]
  },
  {
   "cell_type": "code",
   "execution_count": null,
   "id": "5ad7f6b7",
   "metadata": {},
   "outputs": [],
   "source": [
    "age = int(input(\"How old are you\"))\n",
    "\n",
    "print(f\"Age: {age}\")\n",
    "print(f\"Data type: {type(age)}\")\n",
    "print(f\"Year of birth: {2025-age}\")\n",
    "\n",
    "gender = input(\"Male-1/ Female-2\")\n",
    "\n",
    "print(f\"Gender: {\"Male\" if gender==\"1\" else \"Female\"}\")"
   ]
  },
  {
   "cell_type": "code",
   "execution_count": null,
   "id": "4d7ccbfa",
   "metadata": {},
   "outputs": [],
   "source": [
    "first_name = input(\"Enter your first name: \")\n",
    "last_name = input(\"Enter your last name: \")\n",
    "\n",
    "full_name = first_name + \" \" + last_name\n",
    "\n",
    "print(f\"Full name: {full_name}\")\n",
    "print(\"Full name:\",full_name)\n",
    "print(\"Full name: \"+full_name)\n",
    "print(\"Full name: {}\".format(full_name))\n",
    "\n",
    "w1 = \"one\"\n",
    "w2 = \"two\"\n",
    "w3 = \"three\"\n",
    "\n",
    "print(f\"count {w1}, {w2}, {w3}\")\n",
    "print(\"count \",w1,w2,w3)\n",
    "print(\"count \"+w1+\", \"+w2+w3)\n",
    "print(\"count {}{}{}\".format(w1)(w2)(w3))"
   ]
  }
 ],
 "metadata": {
  "kernelspec": {
   "display_name": ".venv",
   "language": "python",
   "name": "python3"
  },
  "language_info": {
   "codemirror_mode": {
    "name": "ipython",
    "version": 3
   },
   "file_extension": ".py",
   "mimetype": "text/x-python",
   "name": "python",
   "nbconvert_exporter": "python",
   "pygments_lexer": "ipython3",
   "version": "3.12.3"
  }
 },
 "nbformat": 4,
 "nbformat_minor": 5
}
