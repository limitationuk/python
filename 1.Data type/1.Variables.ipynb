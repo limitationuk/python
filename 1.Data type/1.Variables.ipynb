{
 "cells": [
  {
   "cell_type": "code",
   "execution_count": null,
   "id": "a5c158d8",
   "metadata": {},
   "outputs": [],
   "source": [
    "\"\"\"\n",
    "변수는 데이터를 저장할 수 있는 식별자(identifier).\n",
    "별도의 선언 없이 값을 할당하는 순간 변수가 생성.\n",
    "변수는 메모리의 특정 공간을 참조하고 있으며, 그 공간에 데이터가 저장.\n",
    "파이썬은 동적타이핑(dynamic typing) 언어이므로, 변수에 저장되는 값의 자료형은 자동으로 결정.\n",
    "예약어를 변수명으로 사용할 수 없으며, 영문자, 숫자, 밑줄(_)만 사용 가능\n",
    "\"\"\""
   ]
  },
  {
   "cell_type": "code",
   "execution_count": 1,
   "id": "7533c546",
   "metadata": {},
   "outputs": [
    {
     "name": "stdout",
     "output_type": "stream",
     "text": [
      "Hello, Han\n",
      "<class 'str'>\n",
      "She sais, \"EWW!\"\n",
      "<class 'str'>\n"
     ]
    }
   ],
   "source": [
    "#변수의 생성과 출력: str\n",
    "name = \"Han\"\n",
    "\n",
    "print(f\"Hello, {name}\")\n",
    "print(type(name))       #변수의 자료형 확인\n",
    "\n",
    "sent = 'She sais, \"EWW!\"'\n",
    "\n",
    "print(sent)\n",
    "print(type(sent))"
   ]
  },
  {
   "cell_type": "code",
   "execution_count": 2,
   "id": "e93f5bcf",
   "metadata": {},
   "outputs": [
    {
     "name": "stdout",
     "output_type": "stream",
     "text": [
      "Score: 80\n",
      "<class 'int'>\n",
      "Height: 170.1\n",
      "<class 'float'>\n"
     ]
    }
   ],
   "source": [
    "#변수의 생성과 출력: number\n",
    "score = 80\n",
    "\n",
    "print(f\"Score: {score}\")\n",
    "print(type(score))\n",
    "\n",
    "height = 170.1\n",
    "\n",
    "print(f\"Height: {height}\")\n",
    "print(type(height))"
   ]
  },
  {
   "cell_type": "code",
   "execution_count": 3,
   "id": "31f94ce9",
   "metadata": {},
   "outputs": [
    {
     "name": "stdout",
     "output_type": "stream",
     "text": [
      "['apple', 'banana', 'cherry']\n",
      "I love apple, banana, cherry.\n",
      "Among them, I love apple the most.\n",
      "<class 'list'>\n"
     ]
    }
   ],
   "source": [
    "#변수의 생성과 출력: list\n",
    "fruits = ['apple', 'banana', 'cherry']\n",
    "\n",
    "print(fruits)\n",
    "print(f\"I love {', '.join(fruits)}.\")               \n",
    "    #.join()은 문자열 메소드로 join() 앞에 있는 문자열(이 경우 ', ')을 구분자로 사용하여, 괄호 () 안의 반복 가능한 객체 (리스트, 튜플 등)에 있는 각 요소를 하나로 합친다.\n",
    "print(f\"Among them, I love {fruits[0]} the most.\")\n",
    "print(type(fruits))"
   ]
  },
  {
   "cell_type": "code",
   "execution_count": 4,
   "id": "fcc7941d",
   "metadata": {},
   "outputs": [
    {
     "name": "stdout",
     "output_type": "stream",
     "text": [
      "[Ranked Results]\n",
      "1st place: Yuna Kim\n",
      "2nd place: mao Asada\n",
      "3rd place: Joannie Rochette\n",
      "\n",
      "[Medal Winners]\n",
      "Gold Medal: Yuna Kim\n",
      "Silver Medal: mao Asada\n",
      "Bronze Medal: Joannie Rochette\n",
      "\n",
      "[Ranked list]\n",
      "Rank 1: Yuna Kim\n",
      "Rank 2: mao Asada\n",
      "Rank 3: Joannie Rochette\n"
     ]
    }
   ],
   "source": [
    "#변수의 생성과 출력: tuple\n",
    "gold = (1, \"Yuna Kim\")\n",
    "silver = (2, \"mao Asada\")\n",
    "bronze = (3, \"Joannie Rochette\")\n",
    "\n",
    "print(\"[Ranked Results]\")\n",
    "print(f\"{gold[0]}st place: {gold[1]}\")\n",
    "print(f\"{silver[0]}nd place: {silver[1]}\")\n",
    "print(f\"{bronze[0]}rd place: {bronze[1]}\")\n",
    "\n",
    "print(\"\\n[Medal Winners]\")          #\\n 줄바꿈\n",
    "print(f\"Gold Medal: {gold[1]}\")\n",
    "print(f\"Silver Medal: {silver[1]}\")\n",
    "print(f\"Bronze Medal: {bronze[1]}\")\n",
    "\n",
    "print(\"\\n[Ranked list]\")\n",
    "medals = [gold, silver, bronze]     #리스트에 튜플 대입\n",
    "for rank, name in medals:           #medals 갯수만큼 medals 값을 rank, name에 대입 반복\n",
    "    print(f\"Rank {rank}: {name}\")"
   ]
  },
  {
   "cell_type": "code",
   "execution_count": null,
   "id": "5e3753d9",
   "metadata": {},
   "outputs": [
    {
     "name": "stdout",
     "output_type": "stream",
     "text": [
      "[single menu and cost]\n",
      "3000\n",
      "Americano costs 3000 won.\n",
      "\n",
      "[menus infomation]\n",
      "dict_keys(['Americano', 'Latte', 'Cappuccino', 'Mocha'])\n",
      "['Americano', 'Latte', 'Cappuccino', 'Mocha']\n",
      "Americano costs 3000 won.\n",
      "dict_items([('Americano', 3000), ('Latte', 3500), ('Cappuccino', 4000), ('Mocha', 4500)])\n",
      "Americano costs 3000 won.\n",
      "\n",
      "[Price information]\n",
      "dict_values([3000, 3500, 4000, 4500])\n",
      "\n",
      "[All menus]\n",
      "Americano\n",
      "Latte\n",
      "Cappuccino\n",
      "Mocha\n",
      "\n",
      "[All costs]\n",
      "3000\n",
      "3500\n",
      "4000\n",
      "4500\n"
     ]
    }
   ],
   "source": [
    "#변수의 생성과 출력: dictionary\n",
    "menus = {\n",
    "    \"Americano\": 3000,\n",
    "    \"Latte\": 3500,\n",
    "    \"Cappuccino\": 4000,\n",
    "    \"Mocha\": 4500\n",
    "}\n",
    "\n",
    "print(\"[single menu and cost]\")\n",
    "print(menus[\"Americano\"])\n",
    "print(f\"Americano costs {menus[\"Americano\"]} won.\")\n",
    "\n",
    "print(\"\\n[menus infomation]\")\n",
    "print(menus.keys())                   #menus.keys(): 딕셔너리의 모든 키만 모아서 보여줍니다. \n",
    "print(list(menus))  \n",
    "print(f\"{list(menus)[0]} costs {list(menus.items())[0][1]} won.\")\n",
    "\n",
    "print(menus.items())                  #menus.items(): 딕셔너리의 모든 키와 값 쌍을 한꺼번에 보여줍니다. 이 쌍들은 튜플 형태로 이루어져 있습니다.\n",
    "print(f\"{list(menus.items())[0][0]} costs {list(menus.items())[0][1]} won.\")\n",
    "\n",
    "print(\"\\n[Price information]\")\n",
    "print(menus.values())                #menus.values(): 딕셔너리의 모든 값만 모아서 보여줍니다. \n",
    "\n",
    "print(\"\\n[All menus]\")\n",
    "for menu in menus:\n",
    "    print(menu)\n",
    "\n",
    "print(\"\\n[All costs]\")\n",
    "for price in menus.values():\n",
    "    print(price)"
   ]
  }
 ],
 "metadata": {
  "kernelspec": {
   "display_name": ".venv",
   "language": "python",
   "name": "python3"
  },
  "language_info": {
   "codemirror_mode": {
    "name": "ipython",
    "version": 3
   },
   "file_extension": ".py",
   "mimetype": "text/x-python",
   "name": "python",
   "nbconvert_exporter": "python",
   "pygments_lexer": "ipython3",
   "version": "3.12.3"
  }
 },
 "nbformat": 4,
 "nbformat_minor": 5
}
