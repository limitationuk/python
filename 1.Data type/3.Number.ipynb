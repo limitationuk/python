{
 "cells": [
  {
   "cell_type": "code",
   "execution_count": null,
   "id": "6913c016",
   "metadata": {},
   "outputs": [],
   "source": [
    "\"\"\"\n",
    "수치형 자료형은 숫자 데이터를 표현할 때 사용하는 자료형.\n",
    "정수형(in), 실수형(float) 등이 있으며, 사칙연산이나 비교, 반복 횟수 지정 등 다양한 계산에 활용.\n",
    "입력값을 정수로 변환할 때는 int() 함수를, 실수로 변환할 때는 float() 함수를 사용.\n",
    "나눗셈 /, 정수 나눗셈(int 반환) //, 나머지 %, 곱셈 *, 덧셈 +, 뺄셈 - 등 다양한 산술 연산자(arithmetic operators)를 함께 사용. \n",
    "정수와 실수를 혼합해서 연산할 경우, 결과는 자동으로 실수형(float)으로 변환.\n",
    "\"\"\""
   ]
  },
  {
   "cell_type": "code",
   "execution_count": 1,
   "id": "ec5b3abf",
   "metadata": {},
   "outputs": [
    {
     "ename": "ValueError",
     "evalue": "invalid literal for int() with base 10: ''",
     "output_type": "error",
     "traceback": [
      "\u001b[31m---------------------------------------------------------------------------\u001b[39m",
      "\u001b[31mValueError\u001b[39m                                Traceback (most recent call last)",
      "\u001b[36mCell\u001b[39m\u001b[36m \u001b[39m\u001b[32mIn[1]\u001b[39m\u001b[32m, line 9\u001b[39m\n\u001b[32m      6\u001b[39m beverages = [\u001b[33m\"\u001b[39m\u001b[33mAmericano\u001b[39m\u001b[33m\"\u001b[39m, \u001b[33m\"\u001b[39m\u001b[33mLatte\u001b[39m\u001b[33m\"\u001b[39m, \u001b[33m\"\u001b[39m\u001b[33mChamomile\u001b[39m\u001b[33m\"\u001b[39m]\n\u001b[32m      7\u001b[39m beverages_price = [americano, latte ,chamomile]\n\u001b[32m----> \u001b[39m\u001b[32m9\u001b[39m user_menu = \u001b[38;5;28;43mint\u001b[39;49m\u001b[43m(\u001b[49m\u001b[38;5;28;43minput\u001b[39;49m\u001b[43m(\u001b[49m\u001b[33;43m\"\u001b[39;49m\u001b[33;43mAmericano-0 / Latte-1 / Chamomile-2 \u001b[39;49m\u001b[33;43m\"\u001b[39;49m\u001b[43m)\u001b[49m\u001b[43m)\u001b[49m\n\u001b[32m     10\u001b[39m quantity = \u001b[38;5;28mint\u001b[39m(\u001b[38;5;28minput\u001b[39m(\u001b[33m\"\u001b[39m\u001b[33mHow many cups? \u001b[39m\u001b[33m\"\u001b[39m))\n\u001b[32m     12\u001b[39m total += beverages_price[user_menu] * quantity\n",
      "\u001b[31mValueError\u001b[39m: invalid literal for int() with base 10: ''"
     ]
    }
   ],
   "source": [
    "total = 0\n",
    "americano = 4500\n",
    "latte = 5500\n",
    "chamomile = 7000\n",
    "\n",
    "beverages = [\"Americano\", \"Latte\", \"Chamomile\"]\n",
    "beverages_price = [americano, latte ,chamomile]\n",
    "\n",
    "user_menu = int(input(\"Americano-0 / Latte-1 / Chamomile-2 \"))\n",
    "quantity = int(input(\"How many cups? \"))\n",
    "\n",
    "total += beverages_price[user_menu] * quantity\n",
    "\n",
    "print(f\"Orered {quantity} cup(s) of {beverages[user_menu]}.\")\n",
    "print(f\"Total price: {total}\")\n"
   ]
  }
 ],
 "metadata": {
  "kernelspec": {
   "display_name": ".venv",
   "language": "python",
   "name": "python3"
  },
  "language_info": {
   "codemirror_mode": {
    "name": "ipython",
    "version": 3
   },
   "file_extension": ".py",
   "mimetype": "text/x-python",
   "name": "python",
   "nbconvert_exporter": "python",
   "pygments_lexer": "ipython3",
   "version": "3.12.3"
  }
 },
 "nbformat": 4,
 "nbformat_minor": 5
}
