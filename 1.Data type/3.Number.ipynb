{
 "cells": [
  {
   "cell_type": "code",
   "execution_count": null,
   "id": "6913c016",
   "metadata": {},
   "outputs": [],
   "source": [
    "\"\"\"\n",
    "수치형 자료형은 숫자 데이터를 표현할 때 사용하는 자료형.\n",
    "정수형(in), 실수형(float) 등이 있으며, 사칙연산이나 비교, 반복 횟수 지정 등 다양한 계산에 활용.\n",
    "입력값을 정수로 변환할 때는 int() 함수를, 실수로 변환할 때는 float() 함수를 사용.\n",
    "나눗셈 /, 정수 나눗셈(int 반환) //, 나머지 %, 곱셈 *, 덧셈 +, 뺄셈 - 등 다양한 산술 연산자(arithmetic operators)를 함께 사용. \n",
    "정수와 실수를 혼합해서 연산할 경우, 결과는 자동으로 실수형(float)으로 변환.\n",
    "\"\"\""
   ]
  },
  {
   "cell_type": "code",
   "execution_count": null,
   "id": "ec5b3abf",
   "metadata": {},
   "outputs": [],
   "source": [
    "total = 0\n",
    "americano = 4500\n",
    "latte = 5500\n",
    "chamomile = 7000\n",
    "\n",
    "beverages = [\"Americano\", \"Latte\", \"Chamomile\"]\n",
    "beverages_price = [americano, latte ,chamomile]\n",
    "\n",
    "user_menu = int(input(\"Americano-0 / Latte-1 / Chamomile-2 \"))\n",
    "quantity = int(input(\"How many cups? \"))\n",
    "\n",
    "total += beverages_price[user_menu] * quantity\n",
    "\n",
    "print(f\"Orered {quantity} cup(s) of {beverages[user_menu]}.\")\n",
    "print(f\"Total price: {total}\")\n"
   ]
  },
  {
   "cell_type": "code",
   "execution_count": null,
   "id": "e03f6baa",
   "metadata": {},
   "outputs": [],
   "source": []
  }
 ],
 "metadata": {
  "language_info": {
   "name": "python"
  }
 },
 "nbformat": 4,
 "nbformat_minor": 5
}
