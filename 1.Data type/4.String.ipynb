{
 "cells": [
  {
   "cell_type": "code",
   "execution_count": null,
   "id": "08744170",
   "metadata": {},
   "outputs": [],
   "source": [
    "\"\"\"\n",
    "문자열(String)은 하나 이상의 문자(character)로 구성된 데이터로, 일반적으로 문장, 단어, 기호 등을 표현할 때 사용.\n",
    "파이썬에서는 작은 따옴표(') 또는 큰따옴표(\")를 사용하여 문자열을 정의하며, 여러 중의 문자열은 삼중 따옴표('''혹은\\\"\"\")로 감쌀 수 있다.\n",
    "문자열은 순서가 있는 시퀀스 자료형이기 때문에, 각 문자에 번호(인덱스)를 통해 접근할 수 있으며, 덧셈이나 곱셈과 같은 연산자를 활용해 결합하거나 반복하는 등의 조작도 가능.\n",
    "줄 바꿈, 탭, 따옴표 출력 등의 특수한 형식을 표현하기 위해 이스케이프 문자가 사용됨.\n",
    "\"\"\""
   ]
  },
  {
   "cell_type": "code",
   "execution_count": null,
   "id": "c070e7ae",
   "metadata": {},
   "outputs": [
    {
     "name": "stdout",
     "output_type": "stream",
     "text": [
      "Full name: 123 455\n",
      "Full name: 123 455\n",
      "Full name: 123 455\n",
      "Full name: 123 455\n",
      "count one, two, three\n",
      "count  one two three\n",
      "count one, twothree\n",
      "count onetwothree\n"
     ]
    }
   ],
   "source": [
    "first_name = input(\"Enter your first name: \")\n",
    "last_name = input(\"Enter your last name: \")\n",
    "\n",
    "full_name = first_name + \" \" + last_name\n",
    "\n",
    "print(f\"Full name: {full_name}\")\n",
    "print(\"Full name:\",full_name)\n",
    "print(\"Full name: \"+full_name)\n",
    "print(\"Full name: {}\".format(full_name))\n",
    "\n",
    "w1 = \"one\"\n",
    "w2 = \"two\"\n",
    "w3 = \"three\"\n",
    "\n",
    "print(f\"count {w1}, {w2}, {w3}\")\n",
    "print(\"count \",w1,w2,w3)\n",
    "print(\"count \"+w1+\", \"+w2+w3)\n",
    "print(\"count {}{}{}\".format(w1,w2,w3))"
   ]
  },
  {
   "cell_type": "code",
   "execution_count": 3,
   "id": "44103452",
   "metadata": {},
   "outputs": [
    {
     "name": "stdout",
     "output_type": "stream",
     "text": [
      "pupypupy\n",
      "p\n",
      "u\n",
      "y\n"
     ]
    }
   ],
   "source": [
    "message = \"pupy\"\n",
    "print(message * 2)\n",
    "print(message[0])\n",
    "print(message[1])\n",
    "print(message[-1])"
   ]
  },
  {
   "cell_type": "code",
   "execution_count": 6,
   "id": "042506bb",
   "metadata": {},
   "outputs": [
    {
     "name": "stdout",
     "output_type": "stream",
     "text": [
      "sen tence\n",
      "['sen', 'tence']\n",
      "<class 'list'>\n",
      "2\n",
      "sen\n",
      "tence\n",
      "tence\n"
     ]
    }
   ],
   "source": [
    "sentence = \"sen tence\"\n",
    "\n",
    "words = sentence.split()\n",
    "\n",
    "print(sentence)\n",
    "print(words)\n",
    "print(type(words))\n",
    "print(len(words))\n",
    "print(words[0])\n",
    "print(words[1])\n",
    "print(words[-1])\n"
   ]
  }
 ],
 "metadata": {
  "kernelspec": {
   "display_name": ".venv",
   "language": "python",
   "name": "python3"
  },
  "language_info": {
   "codemirror_mode": {
    "name": "ipython",
    "version": 3
   },
   "file_extension": ".py",
   "mimetype": "text/x-python",
   "name": "python",
   "nbconvert_exporter": "python",
   "pygments_lexer": "ipython3",
   "version": "3.12.3"
  }
 },
 "nbformat": 4,
 "nbformat_minor": 5
}
