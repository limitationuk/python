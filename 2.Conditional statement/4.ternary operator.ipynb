{
 "cells": [
  {
   "cell_type": "code",
   "execution_count": null,
   "id": "712af629",
   "metadata": {},
   "outputs": [
    {
     "name": "stdout",
     "output_type": "stream",
     "text": [
      "a\n"
     ]
    }
   ],
   "source": [
    "mychar = \"a\" if False else \"b\"\n",
    "\n",
    "print(mychar)\n",
    "print(\"a\" if True else \"b\")"
   ]
  },
  {
   "cell_type": "code",
   "execution_count": null,
   "id": "ded6855f",
   "metadata": {},
   "outputs": [
    {
     "name": "stdout",
     "output_type": "stream",
     "text": [
      "Odd\n"
     ]
    }
   ],
   "source": [
    "num = 10\n",
    "\n",
    "result = \"Even\" if num % 2 == 0 else \"Odd\"\n",
    "print(result)"
   ]
  },
  {
   "cell_type": "code",
   "execution_count": null,
   "id": "e1fbd210",
   "metadata": {},
   "outputs": [],
   "source": [
    "numbers = [\"One\", \"Two\", \"Three\"]\n",
    "\n",
    "availability = \"yes\" if \"Four\" in numbers else \"no\"\n",
    "print(availability)"
   ]
  },
  {
   "cell_type": "code",
   "execution_count": 6,
   "id": "2b04b5a6",
   "metadata": {},
   "outputs": [
    {
     "name": "stdout",
     "output_type": "stream",
     "text": [
      "True\n",
      "yes\n"
     ]
    }
   ],
   "source": [
    "mystr = 'aaabbbcc'\n",
    "\n",
    "print('abbbc' in mystr)\n",
    "isIn = \"yes\" if 'abbbc' in mystr else \"no\"\n",
    "\n",
    "print(isIn)"
   ]
  },
  {
   "cell_type": "code",
   "execution_count": 11,
   "id": "7220ac79",
   "metadata": {},
   "outputs": [
    {
     "name": "stdout",
     "output_type": "stream",
     "text": [
      "Invalid\n",
      "Invalid\n"
     ]
    }
   ],
   "source": [
    "weekdays = [\"Mon\", \"Tue\", \"Wed\", \"Thu\", \"Fri\"]\n",
    "weekend =[\"Sat\", \"Sun\"]\n",
    "\n",
    "day = \"abc\"\n",
    "\n",
    "result = \"weekdays\" if day in weekdays else \"weekend\" if day in weekend else \"Invalid\"\n",
    "print(result)\n",
    "\n",
    "if day in weekdays:\n",
    "    result = \"weekdays\"\n",
    "elif day in weekend:\n",
    "    result = \"weekend\"\n",
    "else:\n",
    "    result = \"Invalid\"\n",
    "print(result)"
   ]
  }
 ],
 "metadata": {
  "kernelspec": {
   "display_name": ".venv",
   "language": "python",
   "name": "python3"
  },
  "language_info": {
   "codemirror_mode": {
    "name": "ipython",
    "version": 3
   },
   "file_extension": ".py",
   "mimetype": "text/x-python",
   "name": "python",
   "nbconvert_exporter": "python",
   "pygments_lexer": "ipython3",
   "version": "3.12.3"
  }
 },
 "nbformat": 4,
 "nbformat_minor": 5
}
