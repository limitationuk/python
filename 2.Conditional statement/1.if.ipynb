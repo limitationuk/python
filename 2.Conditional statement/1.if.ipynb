{
 "cells": [
  {
   "cell_type": "code",
   "execution_count": null,
   "id": "66e86b6a",
   "metadata": {},
   "outputs": [],
   "source": [
    "\"\"\"\n",
    "-if 조건문은 프로그램이 상황에 따라 다르게 동작하도록 만드는 제어 구조.\n",
    "-특정 조건이 만족되었을 때만 실행되는 코드를 정의할 수 있으며, 이를 통해 입력값에 따라 \n",
    "다른 결과를 출력하거나, 특정 기능을 제한하거나, 흐름을 분기.\n",
    "-if 문은 조건이 참일 때만 블록 내부의 코드를 실행하며, 조건이 거짓이면 해당 블록을 건너뛰고 다음 코드로 진행.\n",
    "-조건의 내용은 값의 상태, 두 값 사이의 관계, 포함 여부 등 다양한 상황을 표현\n",
    "-조건문은 중첩하여 사용할 수 있어 복잡한 판단을 순차적으로 처리\n",
    "\"\"\""
   ]
  },
  {
   "cell_type": "code",
   "execution_count": null,
   "id": "5aec6974",
   "metadata": {},
   "outputs": [
    {
     "name": "stdout",
     "output_type": "stream",
     "text": [
      "70초과\n",
      "--------------------\n",
      "Printed form if block\n",
      "<class 'bool'>\n",
      "<class 'bool'>\n"
     ]
    }
   ],
   "source": [
    "score = int(input(\"Type your score\"))\n",
    "\n",
    "if score > 70:\n",
    "    print(\"70초과\")\n",
    "\n",
    "if True:\n",
    "    print(\"Printed form if block\")\n",
    "\n",
    "if False:\n",
    "    print(\"Printed from if block\")\n",
    "\n",
    "print(type(True))\n",
    "print(type(False))\n"
   ]
  },
  {
   "cell_type": "code",
   "execution_count": 3,
   "id": "3797abe1",
   "metadata": {},
   "outputs": [
    {
     "name": "stdout",
     "output_type": "stream",
     "text": [
      "True\n",
      "True\n",
      "False\n",
      "False\n",
      "False\n",
      "True\n"
     ]
    }
   ],
   "source": [
    "\n",
    "a = 3\n",
    "b = 2\n",
    "\n",
    "print(a > b)\n",
    "print(a >= b)\n",
    "print(a < b)\n",
    "print(a <= b)\n",
    "print(a == b)\n",
    "print(a != b)\n",
    "\n",
    "if a==b:\n",
    "    print(\"a is same as b\")"
   ]
  },
  {
   "cell_type": "code",
   "execution_count": 11,
   "id": "8b0275ec",
   "metadata": {},
   "outputs": [
    {
     "name": "stdout",
     "output_type": "stream",
     "text": [
      "True\n",
      "True\n",
      "water costs 1000.\n"
     ]
    }
   ],
   "source": [
    "\n",
    "menus = {\n",
    "    \"americano\" : 2000,\n",
    "    \"latte\": 3000,\n",
    "    \"water\": 1000\n",
    "}\n",
    "\n",
    "item = input(\"Order item: \")\n",
    "\n",
    "print(item in menus)\n",
    "\n",
    "print(item in menus) #키가 있는지 확인\n",
    "\n",
    "if item in menus:\n",
    "    print(f\"{item} costs {menus[item]}.\")\n",
    "\n",
    "if not item in menus:\n",
    "    print(f\"{item} not exists.\")"
   ]
  },
  {
   "cell_type": "code",
   "execution_count": 9,
   "id": "e6c35cff",
   "metadata": {},
   "outputs": [
    {
     "name": "stdout",
     "output_type": "stream",
     "text": [
      "--------------------Before--------------------\n",
      "010-1234-5678\n",
      "--------------------After--------------------\n",
      "010-0000-0000\n",
      "Login succesful!\n",
      "--- elice's Profile ---\n",
      "Phone: 010-0000-0000\n",
      "Email: elice@example.com\n"
     ]
    }
   ],
   "source": [
    "users = {\n",
    "    \"elice\": {\n",
    "        \"password\": \"abc123\",\n",
    "        \"phone\": \"010-1234-5678\",\n",
    "        \"email\": \"elice@example.com\"\n",
    "    },\n",
    "    \"fred\":{\n",
    "        \"password\": \"qwe456\",\n",
    "        \"phone\": \"010-9876-5432\",\n",
    "        \"email\": \"fred@example.com\"\n",
    "    }\n",
    "}\n",
    "\n",
    "#전화번호 변경\n",
    "username = \"elice\"\n",
    "password = \"abc123\"\n",
    "\n",
    "attr = \"phone\"\n",
    "value = \"010-0000-0000\"\n",
    "\n",
    "print(\"-\"*20+\"Before\"+\"-\"*20)\n",
    "print(users[username][attr])\n",
    "\n",
    "if username in users:\n",
    "    if password == users[username][\"password\"]:\n",
    "        #LoginSucced\n",
    "        users[username][attr] = value\n",
    "\n",
    "print(\"-\"*20+\"After\"+\"-\"*20)\n",
    "print(users[username][attr])\n",
    "\n",
    "\n",
    "#로그인\n",
    "username = input(\"Username: \")\n",
    "\n",
    "if username in users:\n",
    "    password = input(\"password: \")\n",
    "\n",
    "    if password == users[username][\"password\"]:\n",
    "        print(\"Login succesful!\")\n",
    "        print(f\"--- {username}'s Profile ---\")\n",
    "        print(f\"Phone: {users[username][\"phone\"]}\")\n",
    "        print(f\"Email: {users[username][\"email\"]}\")\n",
    "\n"
   ]
  }
 ],
 "metadata": {
  "kernelspec": {
   "display_name": ".venv",
   "language": "python",
   "name": "python3"
  },
  "language_info": {
   "codemirror_mode": {
    "name": "ipython",
    "version": 3
   },
   "file_extension": ".py",
   "mimetype": "text/x-python",
   "name": "python",
   "nbconvert_exporter": "python",
   "pygments_lexer": "ipython3",
   "version": "3.12.3"
  }
 },
 "nbformat": 4,
 "nbformat_minor": 5
}
