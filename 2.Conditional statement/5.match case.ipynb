{
 "cells": [
  {
   "cell_type": "code",
   "execution_count": null,
   "id": "8195e6ca",
   "metadata": {},
   "outputs": [
    {
     "name": "stdout",
     "output_type": "stream",
     "text": [
      "case2\n",
      "This is case2\n"
     ]
    }
   ],
   "source": [
    "casenum = input(\"Type case num: 1~5\")\n",
    "\n",
    "print(\"case\"+casenum)\n",
    "\n",
    "match \"case\"+casenum:\n",
    "    case \"case1\":\n",
    "        print(\"This is case1\")\n",
    "    case \"case2\":\n",
    "        print(\"This is case2\")\n",
    "    case \"case3\":\n",
    "        print(\"This is case3\")\n",
    "    case \"case4\":\n",
    "        print(\"This is case4\")\n",
    "    case _:\n",
    "        print(\"Invalid\")"
   ]
  },
  {
   "cell_type": "code",
   "execution_count": null,
   "id": "1c293e7b",
   "metadata": {},
   "outputs": [],
   "source": [
    "light = \"red\"\n",
    "sent = \"\"\n",
    "\n",
    "match light:\n",
    "    case \"red\":\n",
    "       sent = \"stop\"\n",
    "    case \"yellow\":\n",
    "        print(\"Slow down\")\n",
    "    case \"green\":\n",
    "        print(\"Go\")\n",
    "    case _:\n",
    "        print(\"Invalid\")\n",
    "\n",
    "print(sent)"
   ]
  },
  {
   "cell_type": "code",
   "execution_count": 4,
   "id": "550bf11a",
   "metadata": {},
   "outputs": [
    {
     "name": "stdout",
     "output_type": "stream",
     "text": [
      "slow down\n"
     ]
    }
   ],
   "source": [
    "from enum import Enum\n",
    "\n",
    "class Light(Enum):\n",
    "    RED = 0\n",
    "    YELLOW = 1\n",
    "    GREEN = 2\n",
    "\n",
    "mylight = Light.YELLOW\n",
    "\n",
    "match mylight:\n",
    "    case Light.RED:\n",
    "        print(\"stop\")\n",
    "    case Light.YELLOW:\n",
    "        print(\"slow down\")\n",
    "    case Light.GREEN:\n",
    "        print(\"go\")\n",
    "    case _:\n",
    "        print(\"Invalid\")"
   ]
  },
  {
   "cell_type": "code",
   "execution_count": null,
   "id": "a2f623ab",
   "metadata": {},
   "outputs": [],
   "source": [
    "class Role(Enum):\n",
    "    ADMIN = 0\n",
    "    EDITOR = 1\n",
    "    VIEWER = 2\n",
    "\n",
    "user_role = Role.EDITOR\n",
    "\n",
    "match user_role:\n",
    "    case Role.ADMIN:\n",
    "        print(\"\")\n",
    "    case Role.EDITOR:\n",
    "        print(\"user role, editor\")\n",
    "    case Role.VIEWER:\n",
    "        print(\"\")\n",
    "    case _:\n",
    "        print(\"\")\n"
   ]
  },
  {
   "cell_type": "code",
   "execution_count": 3,
   "id": "f2921648",
   "metadata": {},
   "outputs": [
    {
     "name": "stdout",
     "output_type": "stream",
     "text": [
      "20250828의 투두리스트: {'list1': 'python 과제', 'list2': 'python 수업 복습'}\n"
     ]
    },
    {
     "ename": "KeyboardInterrupt",
     "evalue": "Interrupted by user",
     "output_type": "error",
     "traceback": [
      "\u001b[31m---------------------------------------------------------------------------\u001b[39m",
      "\u001b[31mKeyboardInterrupt\u001b[39m                         Traceback (most recent call last)",
      "\u001b[36mCell\u001b[39m\u001b[36m \u001b[39m\u001b[32mIn[3]\u001b[39m\u001b[32m, line 24\u001b[39m\n\u001b[32m     21\u001b[39m     todolist[day] = {}   \u001b[38;5;66;03m# 새로운 날짜 생성\u001b[39;00m\n\u001b[32m     23\u001b[39m \u001b[38;5;66;03m# 이후 기능\u001b[39;00m\n\u001b[32m---> \u001b[39m\u001b[32m24\u001b[39m status = \u001b[38;5;28;43minput\u001b[39;49m\u001b[43m(\u001b[49m\u001b[33;43m\"\u001b[39;49m\u001b[33;43m추가하기:1, 수정하기:2, 삭제하기:3 : \u001b[39;49m\u001b[33;43m\"\u001b[39;49m\u001b[43m)\u001b[49m\n\u001b[32m     26\u001b[39m \u001b[38;5;28;01mif\u001b[39;00m status == \u001b[33m\"\u001b[39m\u001b[33m1\u001b[39m\u001b[33m\"\u001b[39m:\n\u001b[32m     27\u001b[39m     \u001b[38;5;66;03m# 추가\u001b[39;00m\n\u001b[32m     28\u001b[39m     key = \u001b[38;5;28minput\u001b[39m(\u001b[33m\"\u001b[39m\u001b[33m추가할 리스트 이름(list3 등): \u001b[39m\u001b[33m\"\u001b[39m)\n",
      "\u001b[36mFile \u001b[39m\u001b[32m~/hju/python/.venv/lib/python3.12/site-packages/ipykernel/kernelbase.py:1275\u001b[39m, in \u001b[36mKernel.raw_input\u001b[39m\u001b[34m(self, prompt)\u001b[39m\n\u001b[32m   1273\u001b[39m     msg = \u001b[33m\"\u001b[39m\u001b[33mraw_input was called, but this frontend does not support input requests.\u001b[39m\u001b[33m\"\u001b[39m\n\u001b[32m   1274\u001b[39m     \u001b[38;5;28;01mraise\u001b[39;00m StdinNotImplementedError(msg)\n\u001b[32m-> \u001b[39m\u001b[32m1275\u001b[39m \u001b[38;5;28;01mreturn\u001b[39;00m \u001b[38;5;28;43mself\u001b[39;49m\u001b[43m.\u001b[49m\u001b[43m_input_request\u001b[49m\u001b[43m(\u001b[49m\n\u001b[32m   1276\u001b[39m \u001b[43m    \u001b[49m\u001b[38;5;28;43mstr\u001b[39;49m\u001b[43m(\u001b[49m\u001b[43mprompt\u001b[49m\u001b[43m)\u001b[49m\u001b[43m,\u001b[49m\n\u001b[32m   1277\u001b[39m \u001b[43m    \u001b[49m\u001b[38;5;28;43mself\u001b[39;49m\u001b[43m.\u001b[49m\u001b[43m_parent_ident\u001b[49m\u001b[43m[\u001b[49m\u001b[33;43m\"\u001b[39;49m\u001b[33;43mshell\u001b[39;49m\u001b[33;43m\"\u001b[39;49m\u001b[43m]\u001b[49m\u001b[43m,\u001b[49m\n\u001b[32m   1278\u001b[39m \u001b[43m    \u001b[49m\u001b[38;5;28;43mself\u001b[39;49m\u001b[43m.\u001b[49m\u001b[43mget_parent\u001b[49m\u001b[43m(\u001b[49m\u001b[33;43m\"\u001b[39;49m\u001b[33;43mshell\u001b[39;49m\u001b[33;43m\"\u001b[39;49m\u001b[43m)\u001b[49m\u001b[43m,\u001b[49m\n\u001b[32m   1279\u001b[39m \u001b[43m    \u001b[49m\u001b[43mpassword\u001b[49m\u001b[43m=\u001b[49m\u001b[38;5;28;43;01mFalse\u001b[39;49;00m\u001b[43m,\u001b[49m\n\u001b[32m   1280\u001b[39m \u001b[43m\u001b[49m\u001b[43m)\u001b[49m\n",
      "\u001b[36mFile \u001b[39m\u001b[32m~/hju/python/.venv/lib/python3.12/site-packages/ipykernel/kernelbase.py:1320\u001b[39m, in \u001b[36mKernel._input_request\u001b[39m\u001b[34m(self, prompt, ident, parent, password)\u001b[39m\n\u001b[32m   1317\u001b[39m \u001b[38;5;28;01mexcept\u001b[39;00m \u001b[38;5;167;01mKeyboardInterrupt\u001b[39;00m:\n\u001b[32m   1318\u001b[39m     \u001b[38;5;66;03m# re-raise KeyboardInterrupt, to truncate traceback\u001b[39;00m\n\u001b[32m   1319\u001b[39m     msg = \u001b[33m\"\u001b[39m\u001b[33mInterrupted by user\u001b[39m\u001b[33m\"\u001b[39m\n\u001b[32m-> \u001b[39m\u001b[32m1320\u001b[39m     \u001b[38;5;28;01mraise\u001b[39;00m \u001b[38;5;167;01mKeyboardInterrupt\u001b[39;00m(msg) \u001b[38;5;28;01mfrom\u001b[39;00m\u001b[38;5;250m \u001b[39m\u001b[38;5;28;01mNone\u001b[39;00m\n\u001b[32m   1321\u001b[39m \u001b[38;5;28;01mexcept\u001b[39;00m \u001b[38;5;167;01mException\u001b[39;00m:\n\u001b[32m   1322\u001b[39m     \u001b[38;5;28mself\u001b[39m.log.warning(\u001b[33m\"\u001b[39m\u001b[33mInvalid Message:\u001b[39m\u001b[33m\"\u001b[39m, exc_info=\u001b[38;5;28;01mTrue\u001b[39;00m)\n",
      "\u001b[31mKeyboardInterrupt\u001b[39m: Interrupted by user"
     ]
    }
   ],
   "source": [
    "\n",
    "# 1. 직접 구조 정의\n",
    "todolist = {\n",
    "    \"20250828\": {\n",
    "        \"list1\": \"python 과제\",\n",
    "        \"list2\": \"python 수업 복습\"\n",
    "    },\n",
    "    \"20250829\": {\n",
    "        \"list1\": \"python 수업 복습\",\n",
    "        \"list2\": \"토론 준비\"\n",
    "    }\n",
    "}\n",
    "\n",
    "# 날짜 입력\n",
    "day = input(f\"날짜 입력 {list(todolist.keys())}: \")   # 예시: 20250828\n",
    "\n",
    "# 해당 날짜가 있는지 확인\n",
    "if day in todolist:\n",
    "    print(f\"{day}의 투두리스트: {todolist[day]}\")\n",
    "else:\n",
    "    print(\"해당 날짜의 리스트가 없습니다.\")\n",
    "    todolist[day] = {}   # 새로운 날짜 생성\n",
    "\n",
    "# 이후 기능\n",
    "status = input(\"추가하기:1, 수정하기:2, 삭제하기:3 : \")\n",
    "\n",
    "if status == \"1\":\n",
    "    # 추가\n",
    "    key = input(\"추가할 리스트 이름(list3 등): \")\n",
    "    value = input(\"할 일 입력: \")\n",
    "    todolist[day][key] = value\n",
    "\n",
    "elif status == \"2\":\n",
    "    # 수정\n",
    "    key = input(\"수정할 리스트 이름: \")\n",
    "    if key in todolist[day]:\n",
    "        value = input(\"새로운 내용: \")\n",
    "        todolist[day][key] = value\n",
    "    else:\n",
    "        print(\"해당 리스트 없음\")\n",
    "\n",
    "elif status == \"3\":\n",
    "    # 삭제\n",
    "    key = input(\"삭제할 리스트 이름: \")\n",
    "    if key in todolist[day]:\n",
    "        del todolist[day][key]\n",
    "    else:\n",
    "        print(\"해당 리스트 없음\")\n",
    "\n",
    "print(\"변경된 전체 todolist:\")\n",
    "print(todolist)\n"
   ]
  }
 ],
 "metadata": {
  "kernelspec": {
   "display_name": ".venv",
   "language": "python",
   "name": "python3"
  },
  "language_info": {
   "codemirror_mode": {
    "name": "ipython",
    "version": 3
   },
   "file_extension": ".py",
   "mimetype": "text/x-python",
   "name": "python",
   "nbconvert_exporter": "python",
   "pygments_lexer": "ipython3",
   "version": "3.12.3"
  }
 },
 "nbformat": 4,
 "nbformat_minor": 5
}
