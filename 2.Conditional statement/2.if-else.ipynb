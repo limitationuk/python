{
 "cells": [
  {
   "cell_type": "code",
   "execution_count": null,
   "id": "18732fc5",
   "metadata": {},
   "outputs": [],
   "source": [
    "\"\"\"\n",
    "if-else 문은\n",
    "\"\"\""
   ]
  },
  {
   "cell_type": "code",
   "execution_count": null,
   "id": "2c766477",
   "metadata": {},
   "outputs": [],
   "source": [
    "if True:\n",
    "    print(\"True\")\n",
    "else:\n",
    "    priont(\"Else block executed\")"
   ]
  },
  {
   "cell_type": "code",
   "execution_count": 2,
   "id": "cf71ab6f",
   "metadata": {},
   "outputs": [
    {
     "name": "stdout",
     "output_type": "stream",
     "text": [
      "True\n",
      "True\n",
      "False\n",
      "False\n",
      "Both are true\n",
      "at lest one is true\n"
     ]
    }
   ],
   "source": [
    "c1 = True\n",
    "c2 = True\n",
    "\n",
    "print(c1 and c2)\n",
    "print(c1 or c2)\n",
    "print(not c1)\n",
    "print(not c2)\n",
    "\n",
    "if c1 and c2:\n",
    "    print(\"Both are true\")\n",
    "else:\n",
    "    print(\"..\")\n",
    "\n",
    "if c1 or c2:\n",
    "    print(\"at lest one is true\")\n",
    "else: \n",
    "    print(\"..\")\n",
    "    \n"
   ]
  },
  {
   "cell_type": "code",
   "execution_count": 3,
   "id": "b9100002",
   "metadata": {},
   "outputs": [
    {
     "name": "stdout",
     "output_type": "stream",
     "text": [
      "10\n"
     ]
    }
   ],
   "source": [
    "age = int(input(\"Type your age: \"))\n",
    "discount_rate = 0\n",
    "\n",
    "if age <5 or age> 65:\n",
    "    discount_rate = 10\n",
    "\n",
    "print(discount_rate)\n"
   ]
  },
  {
   "cell_type": "code",
   "execution_count": 4,
   "id": "06a8c80b",
   "metadata": {},
   "outputs": [
    {
     "name": "stdout",
     "output_type": "stream",
     "text": [
      "hot\n"
     ]
    }
   ],
   "source": [
    "temp = 30\n",
    "\n",
    "if temp >= 30:\n",
    "    print(\"hot\")\n",
    "else:\n",
    "    print(\"..\")"
   ]
  },
  {
   "cell_type": "code",
   "execution_count": null,
   "id": "b167e050",
   "metadata": {},
   "outputs": [
    {
     "name": "stdout",
     "output_type": "stream",
     "text": [
      "Login succed\n"
     ]
    }
   ],
   "source": [
    "users ={\n",
    "    \"clare\" : \"1234\",\n",
    "    \"david\" : \"5678\"\n",
    "}\n",
    "\n",
    "username = \"clare\"\n",
    "password = \"1234\"\n",
    "\n",
    "if username in users:\n",
    "    if users[username] == password:\n",
    "        print(\"Login succsed\")\n",
    "    else:\n",
    "        print(\"Password not matches\")\n",
    "else:\n",
    "    print(\"User not exists\")"
   ]
  },
  {
   "cell_type": "code",
   "execution_count": 6,
   "id": "8876e902",
   "metadata": {},
   "outputs": [
    {
     "name": "stdout",
     "output_type": "stream",
     "text": [
      "Recommended Action movies: Avengers, John Wick, Nad Max\n"
     ]
    }
   ],
   "source": [
    "movies = {\n",
    "    \"Action\": [\"Avengers\", \"John Wick\", \"Nad Max\"],\n",
    "    \"Comedy\": [\"Minious\", \"Home Alone\", \"The Mask\"],\n",
    "    \"Drama\": [\"Forrest Gump\", \"The Shawshank Redemption\", \"Parasite\"]\n",
    "}\n",
    "\n",
    "genre = input(\"What genre do you like? (Action, Comedy, Drama): \")\n",
    "\n",
    "if genre in movies:\n",
    "    print(f\"Recommended {genre} movies: {', '.join(movies[genre])}\")\n",
    "else:\n",
    "    print(\"Sorrt, we have no recommendations for that genre.\")"
   ]
  },
  {
   "cell_type": "code",
   "execution_count": null,
   "id": "8fd082a5",
   "metadata": {},
   "outputs": [],
   "source": [
    "seats = {\n",
    "    [False, True, False],\n",
    "    [False, False, True],\n",
    "    [True, False, False]\n",
    "}\n",
    "\n",
    "row =input(\"Type row: (A, B, C)\")\n",
    "\n",
    "row_idx = 0\n",
    "\n",
    "if row == \"A\":\n",
    "    row_idx = 0\n",
    "elif row == \"B\":\n",
    "    row_idx = 1\n",
    "elif row == \"C\":\n",
    "    row_idx == 2\n",
    "else:\n",
    "    print(\"Invalid row index\")\n",
    "\n",
    "col = int(input(\"Type colum: (1, 2, 3)\"))\n",
    "col_idx = 0\n",
    "if 1<= col <=3:\n",
    "    col_idx = col - 1\n",
    "else:\n",
    "    print(\"Invalid column value\")\n",
    "\n",
    "print(f\"row index: {row_idx}\")\n",
    "print(f\"col index: {col_idx}\")\n",
    "print(f\"seat status: {seats[row_idx][col_idx]}\")\n",
    "\n",
    "\n",
    "row = int(int(input(\"Select row (0-2): \")))\n",
    "col = int(input(\"Select column (0-2): \"))\n",
    "\n",
    "if 0 <= row < 3 and 0 <= col < 3:\n",
    "    if not seats[row][col]:\n",
    "        seats[row][col] = True\n",
    "        print(f\"Seat ({row}, {col}) has been successfully reserved\") "
   ]
  }
 ],
 "metadata": {
  "kernelspec": {
   "display_name": ".venv",
   "language": "python",
   "name": "python3"
  },
  "language_info": {
   "codemirror_mode": {
    "name": "ipython",
    "version": 3
   },
   "file_extension": ".py",
   "mimetype": "text/x-python",
   "name": "python",
   "nbconvert_exporter": "python",
   "pygments_lexer": "ipython3",
   "version": "3.12.3"
  }
 },
 "nbformat": 4,
 "nbformat_minor": 5
}
