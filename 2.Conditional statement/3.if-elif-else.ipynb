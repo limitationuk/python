{
 "cells": [
  {
   "cell_type": "code",
   "execution_count": null,
   "id": "f63b9425",
   "metadata": {},
   "outputs": [
    {
     "name": "stdout",
     "output_type": "stream",
     "text": [
      "1st elif phase\n"
     ]
    }
   ],
   "source": [
    "if False:\n",
    "    print(\"if phase\")\n",
    "elif True:\n",
    "    print(\"1st elif phase\")\n",
    "elif True:\n",
    "    print(\"2st elif phase\")\n",
    "else:\n",
    "    print(\"else phase\")"
   ]
  },
  {
   "cell_type": "code",
   "execution_count": null,
   "id": "631f2b0a",
   "metadata": {},
   "outputs": [
    {
     "name": "stdout",
     "output_type": "stream",
     "text": [
      "hot\n"
     ]
    }
   ],
   "source": [
    "temp = int(input(\"Today temperature: \"))\n",
    "\n",
    "if temp < -10:\n",
    "    print(\"too cold\")\n",
    "elif temp >= -10 and temp < 0:\n",
    "    print(\"cold\")\n",
    "elif temp >= 0 and temp < 10:\n",
    "    print(\"cool\")\n",
    "elif 10 <= temp < 20: #python만 가능한 수식\n",
    "    print(\"warm\")\n",
    "else:\n",
    "    print(\"hot\")"
   ]
  },
  {
   "cell_type": "code",
   "execution_count": null,
   "id": "bce0d59e",
   "metadata": {},
   "outputs": [],
   "source": [
    "hour = input(\"What hour is it? (0~23): \")\n",
    "print(f\"hour: {hour}\")\n"
   ]
  },
  {
   "cell_type": "code",
   "execution_count": 3,
   "id": "8789a46c",
   "metadata": {},
   "outputs": [
    {
     "name": "stdout",
     "output_type": "stream",
     "text": [
      "Offical language of Korea: korean\n",
      "Greeting in korean: 안녕하세요\n"
     ]
    }
   ],
   "source": [
    "countries = {\n",
    "    \"Korea\": {\"language\": \"korean\", \"greeting\": \"안녕하세요\"},\n",
    "    \"Japan\": {\"language\": \"Japanese\", \"greeting\": \"Konnichiwa\"},\n",
    "    \"France\": {\"language\": \"French\", \"greeting\": \"Bonjour\"},\n",
    "    \"Usa\": {\"language\": \"English\", \"greeting\": \"Hello\"},\n",
    "    \"Spain\": {\"language\": \"Spanish\", \"greeting\": \"iHola\"},\n",
    "}\n",
    "\n",
    "country = input(\"Enter a country: \")\n",
    "\n",
    "info = countries.get(country)\n",
    "\n",
    "if info:\n",
    "    print(f\"Offical language of {country}: {info[\"language\"]}\")\n",
    "    print(f\"Greeting in {info[\"language\"]}: {info[\"greeting\"]}\")\n",
    "else:\n",
    "    print(\"Sorry, we don't have data for that country.\")\n"
   ]
  },
  {
   "cell_type": "code",
   "execution_count": 23,
   "id": "496811f9",
   "metadata": {},
   "outputs": [
    {
     "name": "stdout",
     "output_type": "stream",
     "text": [
      "row index: 0\n",
      "col index: 1\n",
      "seat status: True\n",
      "--------------------\n",
      "Failed\n",
      "How about seat A2\n",
      "====================\n"
     ]
    },
    {
     "ename": "KeyboardInterrupt",
     "evalue": "Interrupted by user",
     "output_type": "error",
     "traceback": [
      "\u001b[31m---------------------------------------------------------------------------\u001b[39m",
      "\u001b[31mKeyboardInterrupt\u001b[39m                         Traceback (most recent call last)",
      "\u001b[36mCell\u001b[39m\u001b[36m \u001b[39m\u001b[32mIn[23]\u001b[39m\u001b[32m, line 9\u001b[39m\n\u001b[32m      1\u001b[39m seats = [\n\u001b[32m      2\u001b[39m     [\u001b[38;5;28;01mFalse\u001b[39;00m, \u001b[38;5;28;01mTrue\u001b[39;00m, \u001b[38;5;28;01mFalse\u001b[39;00m, \u001b[38;5;28;01mTrue\u001b[39;00m, \u001b[38;5;28;01mFalse\u001b[39;00m],\n\u001b[32m      3\u001b[39m     [\u001b[38;5;28;01mFalse\u001b[39;00m, \u001b[38;5;28;01mFalse\u001b[39;00m, \u001b[38;5;28;01mTrue\u001b[39;00m, \u001b[38;5;28;01mFalse\u001b[39;00m, \u001b[38;5;28;01mTrue\u001b[39;00m],\n\u001b[32m   (...)\u001b[39m\u001b[32m      6\u001b[39m     [\u001b[38;5;28;01mTrue\u001b[39;00m, \u001b[38;5;28;01mFalse\u001b[39;00m, \u001b[38;5;28;01mFalse\u001b[39;00m, \u001b[38;5;28;01mTrue\u001b[39;00m, \u001b[38;5;28;01mFalse\u001b[39;00m]\n\u001b[32m      7\u001b[39m ]\n\u001b[32m      8\u001b[39m \u001b[38;5;28;01mwhile\u001b[39;00m \u001b[38;5;28;01mTrue\u001b[39;00m:\n\u001b[32m----> \u001b[39m\u001b[32m9\u001b[39m     row =\u001b[38;5;28;43minput\u001b[39;49m\u001b[43m(\u001b[49m\u001b[33;43m\"\u001b[39;49m\u001b[33;43mType row: (A, B, C, D, E)\u001b[39;49m\u001b[33;43m\"\u001b[39;49m\u001b[43m)\u001b[49m\n\u001b[32m     11\u001b[39m     row_idx = \u001b[32m0\u001b[39m\n\u001b[32m     12\u001b[39m     row_out = \u001b[38;5;28;01mFalse\u001b[39;00m\n",
      "\u001b[36mFile \u001b[39m\u001b[32m~/hju/python/.venv/lib/python3.12/site-packages/ipykernel/kernelbase.py:1275\u001b[39m, in \u001b[36mKernel.raw_input\u001b[39m\u001b[34m(self, prompt)\u001b[39m\n\u001b[32m   1273\u001b[39m     msg = \u001b[33m\"\u001b[39m\u001b[33mraw_input was called, but this frontend does not support input requests.\u001b[39m\u001b[33m\"\u001b[39m\n\u001b[32m   1274\u001b[39m     \u001b[38;5;28;01mraise\u001b[39;00m StdinNotImplementedError(msg)\n\u001b[32m-> \u001b[39m\u001b[32m1275\u001b[39m \u001b[38;5;28;01mreturn\u001b[39;00m \u001b[38;5;28;43mself\u001b[39;49m\u001b[43m.\u001b[49m\u001b[43m_input_request\u001b[49m\u001b[43m(\u001b[49m\n\u001b[32m   1276\u001b[39m \u001b[43m    \u001b[49m\u001b[38;5;28;43mstr\u001b[39;49m\u001b[43m(\u001b[49m\u001b[43mprompt\u001b[49m\u001b[43m)\u001b[49m\u001b[43m,\u001b[49m\n\u001b[32m   1277\u001b[39m \u001b[43m    \u001b[49m\u001b[38;5;28;43mself\u001b[39;49m\u001b[43m.\u001b[49m\u001b[43m_parent_ident\u001b[49m\u001b[43m[\u001b[49m\u001b[33;43m\"\u001b[39;49m\u001b[33;43mshell\u001b[39;49m\u001b[33;43m\"\u001b[39;49m\u001b[43m]\u001b[49m\u001b[43m,\u001b[49m\n\u001b[32m   1278\u001b[39m \u001b[43m    \u001b[49m\u001b[38;5;28;43mself\u001b[39;49m\u001b[43m.\u001b[49m\u001b[43mget_parent\u001b[49m\u001b[43m(\u001b[49m\u001b[33;43m\"\u001b[39;49m\u001b[33;43mshell\u001b[39;49m\u001b[33;43m\"\u001b[39;49m\u001b[43m)\u001b[49m\u001b[43m,\u001b[49m\n\u001b[32m   1279\u001b[39m \u001b[43m    \u001b[49m\u001b[43mpassword\u001b[49m\u001b[43m=\u001b[49m\u001b[38;5;28;43;01mFalse\u001b[39;49;00m\u001b[43m,\u001b[49m\n\u001b[32m   1280\u001b[39m \u001b[43m\u001b[49m\u001b[43m)\u001b[49m\n",
      "\u001b[36mFile \u001b[39m\u001b[32m~/hju/python/.venv/lib/python3.12/site-packages/ipykernel/kernelbase.py:1320\u001b[39m, in \u001b[36mKernel._input_request\u001b[39m\u001b[34m(self, prompt, ident, parent, password)\u001b[39m\n\u001b[32m   1317\u001b[39m \u001b[38;5;28;01mexcept\u001b[39;00m \u001b[38;5;167;01mKeyboardInterrupt\u001b[39;00m:\n\u001b[32m   1318\u001b[39m     \u001b[38;5;66;03m# re-raise KeyboardInterrupt, to truncate traceback\u001b[39;00m\n\u001b[32m   1319\u001b[39m     msg = \u001b[33m\"\u001b[39m\u001b[33mInterrupted by user\u001b[39m\u001b[33m\"\u001b[39m\n\u001b[32m-> \u001b[39m\u001b[32m1320\u001b[39m     \u001b[38;5;28;01mraise\u001b[39;00m \u001b[38;5;167;01mKeyboardInterrupt\u001b[39;00m(msg) \u001b[38;5;28;01mfrom\u001b[39;00m\u001b[38;5;250m \u001b[39m\u001b[38;5;28;01mNone\u001b[39;00m\n\u001b[32m   1321\u001b[39m \u001b[38;5;28;01mexcept\u001b[39;00m \u001b[38;5;167;01mException\u001b[39;00m:\n\u001b[32m   1322\u001b[39m     \u001b[38;5;28mself\u001b[39m.log.warning(\u001b[33m\"\u001b[39m\u001b[33mInvalid Message:\u001b[39m\u001b[33m\"\u001b[39m, exc_info=\u001b[38;5;28;01mTrue\u001b[39;00m)\n",
      "\u001b[31mKeyboardInterrupt\u001b[39m: Interrupted by user"
     ]
    }
   ],
   "source": [
    "seats = [\n",
    "    [False, True, False, True, False],\n",
    "    [False, False, True, False, True],\n",
    "    [True, False, False, True, False],\n",
    "    [True, False, False, True, False],\n",
    "    [True, False, False, True, False]\n",
    "]\n",
    "while True:\n",
    "    row =input(\"Type row: (A, B, C, D, E)\")\n",
    "\n",
    "    row_idx = 0\n",
    "    row_out = False\n",
    "\n",
    "    if row == \"A\":\n",
    "        row_idx = 0\n",
    "    elif row == \"B\":\n",
    "        row_idx = 1\n",
    "    elif row == \"C\":\n",
    "        row_idx = 2\n",
    "    elif row == \"D\":\n",
    "        row_idx = 3\n",
    "    elif row == \"E\":\n",
    "        row_idx = 4\n",
    "    else:\n",
    "        print(\"Invalid row index\")\n",
    "        row_out = True\n",
    "\n",
    "    col = int(input(\"Type colum: (1, 2, 3, 4, 5)\"))\n",
    "    col_idx = 0\n",
    "    col_out = False\n",
    "\n",
    "    if 1 <= col <= 5:\n",
    "        col_idx = col - 1\n",
    "    else:\n",
    "        print(\"Invalid column value\")\n",
    "        col_out = True\n",
    "        \n",
    "\n",
    "    if row_out == False and col_out == False:\n",
    "        print(f\"row index: {row_idx}\")\n",
    "        print(f\"col index: {col_idx}\")\n",
    "        print(f\"seat status: {seats[row_idx][col_idx]}\")\n",
    "\n",
    "        print('-'*20)\n",
    "        if not seats[row_idx][col_idx]:\n",
    "            print(f\"Reserving: {row}{col}\")\n",
    "            seats[row_idx][col_idx] = True\n",
    "            print(f\"seat status: {seats[row_idx][col_idx]}\")\n",
    "        else:\n",
    "            \n",
    "            print(\"Failed\")\n",
    "            if seats[row_idx][col_idx+1] == False:\n",
    "                print(f\"How about seat {row}{col}\")\n",
    "            elif seats[row_idx][col_idx-1] == False:\n",
    "                print(f\"How about seat {row}{col}\")\n",
    "            elif seats[row_id-1][col_idx] == False:\n",
    "                print(f\"How about seat {row}{col}\")\n",
    "            elif seats[row_idx+1][col_idx] == False:\n",
    "                print(f\"How about seat {row}{col}\")\n",
    "        \n",
    "\n",
    "    print(\"=\"*20)   "
   ]
  }
 ],
 "metadata": {
  "kernelspec": {
   "display_name": ".venv",
   "language": "python",
   "name": "python3"
  },
  "language_info": {
   "codemirror_mode": {
    "name": "ipython",
    "version": 3
   },
   "file_extension": ".py",
   "mimetype": "text/x-python",
   "name": "python",
   "nbconvert_exporter": "python",
   "pygments_lexer": "ipython3",
   "version": "3.12.3"
  }
 },
 "nbformat": 4,
 "nbformat_minor": 5
}
