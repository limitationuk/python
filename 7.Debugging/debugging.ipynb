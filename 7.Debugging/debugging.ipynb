{
 "cells": [
  {
   "cell_type": "markdown",
   "id": "48438a74",
   "metadata": {},
   "source": [
    "Debugging"
   ]
  }
 ],
 "metadata": {
  "language_info": {
   "name": "python"
  }
 },
 "nbformat": 4,
 "nbformat_minor": 5
}
