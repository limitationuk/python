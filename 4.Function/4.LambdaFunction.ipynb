{
 "cells": [
  {
   "cell_type": "code",
   "execution_count": null,
   "id": "3c95c6b2",
   "metadata": {},
   "outputs": [],
   "source": [
    "#Lambda Function\n",
    "#익명함수, 함수의 이름을 지정하지 않고 내용으로 나타낸다."
   ]
  },
  {
   "cell_type": "code",
   "execution_count": 37,
   "id": "d770f1b5",
   "metadata": {},
   "outputs": [
    {
     "name": "stdout",
     "output_type": "stream",
     "text": [
      "[565, 763, 288, 153, 376, 768, 813, 971, 961, 537]\n",
      "[319225, 582169, 82944, 23409, 141376, 589824, 660969, 942841, 923521, 288369]\n"
     ]
    }
   ],
   "source": [
    "from random import randint\n",
    "# l=[]\n",
    "# for _ in range(10):\n",
    "#     l.append(randint(10,1000))\n",
    "\n",
    "# for i, v in enumerate(l):\n",
    "#     v[i]=v**2\n",
    "\n",
    "l = [randint(10,1000) for x in range(10)]\n",
    "print(l)\n",
    "m = map(lambda x: x**2, l)\n",
    "#m = sorted(l)\n",
    "print(list(m))"
   ]
  },
  {
   "cell_type": "code",
   "execution_count": null,
   "id": "bcd948b9",
   "metadata": {},
   "outputs": [],
   "source": [
    "#Closure\n",
    "#함수를 반환 한다는 점에서 Lambda와 유사함\n",
    "#내부적으로 status 유지"
   ]
  },
  {
   "cell_type": "code",
   "execution_count": 40,
   "id": "51bfa7b0",
   "metadata": {},
   "outputs": [
    {
     "name": "stdout",
     "output_type": "stream",
     "text": [
      "1\n",
      "2\n",
      "3\n",
      "4\n",
      "1\n",
      "2\n",
      "3\n",
      "4\n"
     ]
    }
   ],
   "source": [
    "\n",
    "def make_counter():\n",
    "    count = 0\n",
    "    def counter():\n",
    "        nonlocal count\n",
    "        count += 1\n",
    "        return count\n",
    "    return counter\n",
    "\n",
    "c = make_counter()\n",
    "print(c())\n",
    "print(c())\n",
    "print(c())\n",
    "print(c())\n",
    "\n",
    "d = make_counter()\n",
    "print(d())\n",
    "print(d())\n",
    "print(d())\n",
    "print(d())"
   ]
  },
  {
   "cell_type": "code",
   "execution_count": 29,
   "id": "66d02d71",
   "metadata": {},
   "outputs": [
    {
     "name": "stdout",
     "output_type": "stream",
     "text": [
      "로그인 실패1\n",
      "로그인 실패2\n",
      "로그인 실패3\n",
      "로그인 종료\n",
      "로그인 종료\n"
     ]
    }
   ],
   "source": [
    "def login():\n",
    "    login_attenpt = 0\n",
    "    def check_password(user_pass):\n",
    "        nonlocal login_attenpt\n",
    "        if login_attenpt >= 3:\n",
    "            print(\"로그인 종료\")\n",
    "        elif user_pass == \"password\":\n",
    "            login_attenpt =0\n",
    "            print(\"로그인성공\")\n",
    "        else:\n",
    "            login_attenpt += 1\n",
    "            print(f\"로그인 실패{login_attenpt}\")\n",
    "        pass\n",
    "    return check_password\n",
    "\n",
    "l=login()\n",
    "l(\"aaa\")\n",
    "l(\"aaa\")\n",
    "l(\"aaa\")\n",
    "l(\"aaa\")\n",
    "l(\"aaa\")"
   ]
  },
  {
   "cell_type": "code",
   "execution_count": null,
   "id": "af8c03b3",
   "metadata": {},
   "outputs": [],
   "source": [
    "#TypeHint\n",
    "#Python은 dynamictyping 언어\n",
    "#가독성과 코드 분석 도구를 위해 type hint를 사용할 수 있음\n",
    "#실행시간에는 영향을 미치지 않음"
   ]
  },
  {
   "cell_type": "code",
   "execution_count": null,
   "id": "b841bae9",
   "metadata": {},
   "outputs": [
    {
     "name": "stdout",
     "output_type": "stream",
     "text": [
      "<class 'int'>\n"
     ]
    }
   ],
   "source": [
    "def add(a: int, b: int) -> int: #변수명과 반환값에 힌트 추가\n",
    "    return a + b"
   ]
  },
  {
   "cell_type": "code",
   "execution_count": null,
   "id": "befc6680",
   "metadata": {},
   "outputs": [],
   "source": [
    "#Reduce\n",
    "#누적 연산에 많이 사용"
   ]
  },
  {
   "cell_type": "code",
   "execution_count": null,
   "id": "d119ec28",
   "metadata": {},
   "outputs": [
    {
     "ename": "TypeError",
     "evalue": "reduce expected at most 3 arguments, got 5",
     "output_type": "error",
     "traceback": [
      "\u001b[31m---------------------------------------------------------------------------\u001b[39m",
      "\u001b[31mTypeError\u001b[39m                                 Traceback (most recent call last)",
      "\u001b[36mCell\u001b[39m\u001b[36m \u001b[39m\u001b[32mIn[73]\u001b[39m\u001b[32m, line 4\u001b[39m\n\u001b[32m      1\u001b[39m \u001b[38;5;28;01mfrom\u001b[39;00m\u001b[38;5;250m \u001b[39m\u001b[34;01mfunctools\u001b[39;00m\u001b[38;5;250m \u001b[39m\u001b[38;5;28;01mimport\u001b[39;00m reduce\n\u001b[32m      2\u001b[39m \u001b[38;5;66;03m# r = reduce(lambda a, b: a+b, l)\u001b[39;00m\n\u001b[32m      3\u001b[39m \u001b[38;5;66;03m# print(l)\u001b[39;00m\n\u001b[32m----> \u001b[39m\u001b[32m4\u001b[39m e = \u001b[43mreduce\u001b[49m\u001b[43m(\u001b[49m\u001b[32;43m1\u001b[39;49m\u001b[43m,\u001b[49m\u001b[32;43m2\u001b[39;49m\u001b[43m,\u001b[49m\u001b[32;43m3\u001b[39;49m\u001b[43m,\u001b[49m\u001b[32;43m4\u001b[39;49m\u001b[43m,\u001b[49m\u001b[32;43m5\u001b[39;49m\u001b[43m)\u001b[49m\n\u001b[32m      5\u001b[39m \u001b[38;5;28mprint\u001b[39m(e)\n",
      "\u001b[31mTypeError\u001b[39m: reduce expected at most 3 arguments, got 5"
     ]
    }
   ],
   "source": [
    "from functools import reduce\n",
    "r = reduce(lambda a, b: a+b, l)\n",
    "print(l)\n"
   ]
  },
  {
   "cell_type": "code",
   "execution_count": null,
   "id": "66f74b61",
   "metadata": {},
   "outputs": [],
   "source": [
    "#Partial\n",
    "#Argument를 조작해서 새로운 함수를 생성"
   ]
  },
  {
   "cell_type": "code",
   "execution_count": null,
   "id": "c1c0b756",
   "metadata": {},
   "outputs": [
    {
     "ename": "TypeError",
     "evalue": "pow() missing required argument 'base' (pos 1)",
     "output_type": "error",
     "traceback": [
      "\u001b[31m---------------------------------------------------------------------------\u001b[39m",
      "\u001b[31mTypeError\u001b[39m                                 Traceback (most recent call last)",
      "\u001b[36mCell\u001b[39m\u001b[36m \u001b[39m\u001b[32mIn[71]\u001b[39m\u001b[32m, line 3\u001b[39m\n\u001b[32m      1\u001b[39m \u001b[38;5;28;01mfrom\u001b[39;00m\u001b[38;5;250m \u001b[39m\u001b[34;01mfunctools\u001b[39;00m\u001b[38;5;250m \u001b[39m\u001b[38;5;28;01mimport\u001b[39;00m partial\n\u001b[32m      2\u001b[39m square = partial(\u001b[38;5;28mpow\u001b[39m, exp=\u001b[32m2\u001b[39m) \u001b[38;5;66;03m#매개변수 값 고정\u001b[39;00m\n\u001b[32m----> \u001b[39m\u001b[32m3\u001b[39m \u001b[38;5;28mprint\u001b[39m(\u001b[43msquare\u001b[49m\u001b[43m(\u001b[49m\u001b[43m)\u001b[49m)\n",
      "\u001b[31mTypeError\u001b[39m: pow() missing required argument 'base' (pos 1)"
     ]
    }
   ],
   "source": [
    "from functools import partial\n",
    "square = partial(pow, exp=2) #매개변수 값 고정\n",
    "print(square(5))"
   ]
  },
  {
   "cell_type": "code",
   "execution_count": null,
   "id": "75f9c33e",
   "metadata": {},
   "outputs": [],
   "source": [
    "\n",
    "#enumerate는 '열거하다'라는 뜻이다. 이 함수는 순서가 있는 데이터(리스트, 튜플, 문자열)를 입력으로 받아 인덱스 값을 포함하는 \n",
    "#enumerate 객체를 리턴. 보통 for문과 함께 사용"
   ]
  },
  {
   "cell_type": "code",
   "execution_count": 74,
   "id": "e9285486",
   "metadata": {},
   "outputs": [
    {
     "name": "stdout",
     "output_type": "stream",
     "text": [
      "0 body\n",
      "1 foo\n",
      "2 bar\n"
     ]
    }
   ],
   "source": [
    "for i, name in enumerate([\"body\", \"foo\", \"bar\"]):\n",
    "    print(i,name)"
   ]
  },
  {
   "cell_type": "code",
   "execution_count": null,
   "id": "a0bd4bc1",
   "metadata": {},
   "outputs": [
    {
     "name": "stdout",
     "output_type": "stream",
     "text": [
      "[('a', 'b')]\n"
     ]
    }
   ],
   "source": [
    "#zip\n",
    "#zip은 동일한 개수로 이루어진 데이터들을 묶어서 리턴하는 함수\n"
   ]
  },
  {
   "cell_type": "code",
   "execution_count": 79,
   "id": "debd8be1",
   "metadata": {},
   "outputs": [
    {
     "name": "stdout",
     "output_type": "stream",
     "text": [
      "[(1, 4, 7), (2, 5, 8), (3, 6, 9)]\n"
     ]
    }
   ],
   "source": [
    "print(list(zip ([1,2,3], [4,5,6], [7,8,9])))\n"
   ]
  },
  {
   "cell_type": "code",
   "execution_count": null,
   "id": "91de72c4",
   "metadata": {},
   "outputs": [],
   "source": [
    "#sorted는 입력 데이터를 정렬한 후 그 결과를 리스트로 리턴하는 함수"
   ]
  },
  {
   "cell_type": "code",
   "execution_count": null,
   "id": "d6f65e63",
   "metadata": {},
   "outputs": [],
   "source": [
    "#range는 for문과 함께 자주 사용하는 함수. 입력 받은 숫자에 해ㅔ당하는 값을 반복 가능한 객체로 만들어 리턴"
   ]
  }
 ],
 "metadata": {
  "kernelspec": {
   "display_name": ".venv",
   "language": "python",
   "name": "python3"
  },
  "language_info": {
   "codemirror_mode": {
    "name": "ipython",
    "version": 3
   },
   "file_extension": ".py",
   "mimetype": "text/x-python",
   "name": "python",
   "nbconvert_exporter": "python",
   "pygments_lexer": "ipython3",
   "version": "3.12.3"
  }
 },
 "nbformat": 4,
 "nbformat_minor": 5
}
