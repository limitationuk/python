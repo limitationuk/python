{
 "cells": [
  {
   "cell_type": "code",
   "execution_count": null,
   "id": "09d3e7aa",
   "metadata": {},
   "outputs": [],
   "source": [
    "\"\"\"\n",
    "재귀함수\n",
    "재귀(Recurrsion): 정의에 자기 자신이 포함되는 것\n",
    "재귀함수: 함수를 정의할 때 자신을 재참조하는 함수\n",
    "종료조건이 만족되지 않으면 overflow 발생\n",
    "\"\"\""
   ]
  },
  {
   "cell_type": "code",
   "execution_count": null,
   "id": "28af3df6",
   "metadata": {},
   "outputs": [
    {
     "name": "stdout",
     "output_type": "stream",
     "text": [
      "3!: 24\n"
     ]
    }
   ],
   "source": [
    "def factorial(v):\n",
    "    if v == 0:\n",
    "        return 1\n",
    "    return v * factorial(v-1)\n",
    "\n",
    "print(\"0!:\", factorial(0))\n",
    "print(\"1!:\", factorial(1))\n",
    "print(\"2!:\", factorial(2))\n",
    "print(\"3!:\", factorial(4))"
   ]
  }
 ],
 "metadata": {
  "kernelspec": {
   "display_name": ".venv",
   "language": "python",
   "name": "python3"
  },
  "language_info": {
   "codemirror_mode": {
    "name": "ipython",
    "version": 3
   },
   "file_extension": ".py",
   "mimetype": "text/x-python",
   "name": "python",
   "nbconvert_exporter": "python",
   "pygments_lexer": "ipython3",
   "version": "3.12.3"
  }
 },
 "nbformat": 4,
 "nbformat_minor": 5
}
