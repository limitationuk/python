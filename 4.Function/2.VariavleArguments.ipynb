{
 "cells": [
  {
   "cell_type": "code",
   "execution_count": 23,
   "id": "a9beb33c",
   "metadata": {},
   "outputs": [
    {
     "name": "stdout",
     "output_type": "stream",
     "text": [
      "1 철수님의 장바구니: \n",
      "2 영희님의 장바구니: 수박 사과 바나나 \n",
      "이름: 철수, 나이: 20\n",
      "이름: 철수, 나이: 40\n",
      "시민권: 미국\n",
      "결혼: 싱글\n",
      "추가 정보: 수박\n",
      "추가 정보: 사과\n"
     ]
    }
   ],
   "source": [
    "def print_장바구니(owner_id, owerner_name, *args):\n",
    "    print(f\"{owner_id} {owerner_name}님의 장바구니: \", end = '')\n",
    "    for item in args:\n",
    "        print(f\"{item}\", end=\" \")\n",
    "    print(\"\")\n",
    "\n",
    "print_장바구니(1,\"철수\")\n",
    "print_장바구니(2,\"영희\",\"수박\",\"사과\", \"바나나\")\n",
    "\n",
    "def person_info(name, age,*args, **kwargs):\n",
    "    print(f\"이름: {name}, 나이: {age}\")\n",
    "    for key, value in kwargs.items():\n",
    "        print(f\"{key}: {value}\")\n",
    "    for value in args:\n",
    "        print(f\"추가 정보: {value}\")\n",
    "\n",
    "person_info(\"철수\",20)\n",
    "person_info(\"철수\",40,\"수박\",\"사과\", **{\"시민권\": \"미국\", \"결혼\":\"싱글\"})"
   ]
  },
  {
   "cell_type": "code",
   "execution_count": 24,
   "id": "ae2e8656",
   "metadata": {},
   "outputs": [
    {
     "name": "stdout",
     "output_type": "stream",
     "text": [
      "6\n",
      "3\n"
     ]
    }
   ],
   "source": [
    "#Unpacking\n",
    "def add_three_numbers(a,b,c):\n",
    "    return a+b+c\n",
    "\n",
    "def add_two_number(first,second):\n",
    "    return first+second\n",
    "\n",
    "l=[1,2,3]\n",
    "print(add_three_numbers(*l)) #리스트 언패킹/자리수\n",
    "\n",
    "d= {\"first\": 1, \"second\": 2}\n",
    "print(add_two_number(**d)) #딕셔너리 언패킹/키 이름"
   ]
  }
 ],
 "metadata": {
  "kernelspec": {
   "display_name": ".venv",
   "language": "python",
   "name": "python3"
  },
  "language_info": {
   "codemirror_mode": {
    "name": "ipython",
    "version": 3
   },
   "file_extension": ".py",
   "mimetype": "text/x-python",
   "name": "python",
   "nbconvert_exporter": "python",
   "pygments_lexer": "ipython3",
   "version": "3.12.3"
  }
 },
 "nbformat": 4,
 "nbformat_minor": 5
}
