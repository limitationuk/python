{
 "cells": [
  {
   "cell_type": "code",
   "execution_count": null,
   "id": "4edfa60f",
   "metadata": {},
   "outputs": [],
   "source": [
    "\"\"\"\n",
    "Coding Style\n",
    "들여쓰기는 공백 4칸 활용\n",
    "불필요한 줄 바꿈과 공백 피하기\n",
    "주석은 명확하고 간결하게 작성\n",
    "문자열은 ' 또는 \" 중 일관성 있게 사용\n",
    "==========================================\n",
    "함수 이름은 소문자와 밑줄로 구성(snake_case)\n",
    "set_my_age() # Snake casing\n",
    "PersonInpo\n",
    "\n",
    "setMyAge() # Camel casing\n",
    "SetMyAge()\n",
    "set-mt-age() # Kebab casing  \n",
    "==========================================\n",
    "Python Lint tools\n",
    "*Autopep8\n",
    "Ctrl+Shift+i\n",
    "\"\"\""
   ]
  },
  {
   "cell_type": "code",
   "execution_count": null,
   "id": "4a6b3ed6",
   "metadata": {},
   "outputs": [],
   "source": [
    "\"\"\"\n",
    "Python 함수란?\n",
    "\n",
    "일련의 명령어들을 묶어서 하나의 이름으로 정의한 것\n",
    "-논리 단위로 일들을 분리\n",
    "-코드 중복 방지\n",
    "\n",
    "함수의 구조\n",
    "-def키워드를 사용하여 정의\n",
    "-함수 이름\n",
    "-인자(Parameter, arguments)\n",
    "-반환 값: Optional\n",
    "\"\"\"\n",
    "#Function Signature\n",
    "def calulate_average(score):\n",
    "    return sum(score) / len(score)"
   ]
  },
  {
   "cell_type": "code",
   "execution_count": null,
   "id": "1c3c8de4",
   "metadata": {},
   "outputs": [],
   "source": [
    "\"\"\"\n",
    "-함수 체크 리스트\n",
    "\n",
    "하나의 함수는 하나의 일만 수행\n",
    "함수의 역할이 함수명에 명확히 나타나도록\n",
    "입력과 출력 값이 명확하게\n",
    "반복되는 코드는 함수로 분리\n",
    "함수는 너무 길지 않도록 작성(20 라인 이내)\n",
    "\"\"\""
   ]
  },
  {
   "cell_type": "code",
   "execution_count": null,
   "id": "b420f557",
   "metadata": {},
   "outputs": [],
   "source": [
    "def test_eq():\n",
    "    \n",
    "    a=10\n",
    "    assert a is 10\n",
    "    assert a == 10#\n",
    "\n",
    "    a=None\n",
    "    assert a is None#\n",
    "    assert a == None\n",
    "\n",
    "    a=\"a\"\n",
    "    assert a is \"a\"\n",
    "    assert a == \"a\"#\n",
    "\n",
    "    a = True\n",
    "    assert a is True#\n",
    "    assert a == True\n",
    "\n",
    "\"\"\"\n",
    "안전한 is 사용법\n",
    "\n",
    "# ✅ 안전 (권장)\n",
    "assert a is None\n",
    "assert a is True  \n",
    "assert a is False\n",
    "\n",
    "# ⚠️ 위험 (비권장)  \n",
    "assert a is 10\n",
    "assert a is \"a\"\n",
    "\n",
    "핵심 차이점\n",
    "\n",
    "==: 값이 같은지 비교 (내용 비교)\n",
    "is: 같은 객체인지 비교 (메모리 주소 비교)\n",
    "\n",
    "결론: None, True, False를 제외하고는 일반적으로 ==를 사용하는 것이 안전\n",
    "\"\"\""
   ]
  }
 ],
 "metadata": {
  "language_info": {
   "name": "python"
  }
 },
 "nbformat": 4,
 "nbformat_minor": 5
}
